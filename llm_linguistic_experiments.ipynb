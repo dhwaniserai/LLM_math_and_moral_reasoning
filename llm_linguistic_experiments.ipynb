{
 "cells": [
  {
   "cell_type": "code",
   "execution_count": 1,
   "metadata": {},
   "outputs": [
    {
     "name": "stderr",
     "output_type": "stream",
     "text": [
      "/var/folders/cn/413wvqnx6bxcv8pkd_b2v_ww0000gn/T/ipykernel_2119/650343124.py:2: DeprecationWarning: \n",
      "Pyarrow will become a required dependency of pandas in the next major release of pandas (pandas 3.0),\n",
      "(to allow more performant data types, such as the Arrow string type, and better interoperability with other libraries)\n",
      "but was not found to be installed on your system.\n",
      "If this would cause problems for you,\n",
      "please provide us feedback at https://github.com/pandas-dev/pandas/issues/54466\n",
      "        \n",
      "  import pandas as pd\n",
      "/Users/dhwaniserai/miniconda3/lib/python3.11/site-packages/tqdm/auto.py:21: TqdmWarning: IProgress not found. Please update jupyter and ipywidgets. See https://ipywidgets.readthedocs.io/en/stable/user_install.html\n",
      "  from .autonotebook import tqdm as notebook_tqdm\n",
      "None of PyTorch, TensorFlow >= 2.0, or Flax have been found. Models won't be available and only tokenizers, configuration and file/data utilities can be used.\n"
     ]
    }
   ],
   "source": [
    "import numpy as np\n",
    "import pandas as pd\n",
    "import re\n",
    "import time\n",
    "from pathlib import Path\n",
    "\n",
    "from transformers import OpenAIGPTTokenizer, OpenAIGPTModel\n",
    "\n",
    "import os\n",
    "import openai\n",
    "from openai import OpenAI\n",
    "\n",
    "import matplotlib as plt\n",
    "import seaborn as sns\n",
    "import tiktoken\n",
    "\n",
    "pd.set_option('display.max_colwidth', None)"
   ]
  },
  {
   "cell_type": "code",
   "execution_count": 3,
   "metadata": {},
   "outputs": [],
   "source": [
    "with open('api-key-jan-2024') as f:\n",
    "    OPENAI_API_KEY = f.read().strip()\n",
    "    \n",
    "client = OpenAI(api_key=OPENAI_API_KEY, base_url='https://api.together.xyz')"
   ]
  },
  {
   "cell_type": "code",
   "execution_count": 4,
   "metadata": {},
   "outputs": [],
   "source": [
    "# download data from: https://people.eecs.berkeley.edu/~hendrycks/data.tar\n",
    "\n",
    "abstract_algebra_data_path = Path('data/abstract_algebra_val.csv')\n",
    "college_mathematics_data_path = Path('data/college_mathematics_val.csv')\n",
    "electrical_engineering_data_path = Path('data/electrical_engineering_val.csv')\n",
    "elementary_math_data_path = Path('data/elementary_mathematics_val.csv')\n",
    "high_school_mathematics_data_path = Path('data/high_school_mathematics_val.csv')\n",
    "high_school_statistics_data_path = Path('data/high_school_statistics_val.csv')\n",
    "machine_learning_data_path = Path('data/machine_learning_val.csv')\n",
    "moral_disputes_data_path = Path('data/moral_disputes_val.csv')\n",
    "moral_scenarios_data_path = Path('data/moral_scenarios_val.csv')"
   ]
  },
  {
   "cell_type": "code",
   "execution_count": 5,
   "metadata": {},
   "outputs": [],
   "source": [
    "df_algebra = pd.read_csv(abstract_algebra_data_path, names=['text', 'A', 'B', 'C', 'D', 'answer'])\n",
    "df_college_math = pd.read_csv(college_mathematics_data_path, names=['text', 'A', 'B', 'C', 'D', 'answer'])\n",
    "df_school_math = pd.read_csv(high_school_mathematics_data_path, names=['text', 'A', 'B', 'C', 'D', 'answer'])\n",
    "df_elementary_math = pd.read_csv(elementary_math_data_path, names=['text', 'A', 'B', 'C', 'D', 'answer'])\n",
    "df_electrical = pd.read_csv(electrical_engineering_data_path, names=['text', 'A', 'B', 'C', 'D', 'answer'])\n",
    "df_school_stat = pd.read_csv(high_school_statistics_data_path, names=['text', 'A', 'B', 'C', 'D', 'answer'])\n",
    "df_ml = pd.read_csv(machine_learning_data_path, names=['text', 'A', 'B', 'C', 'D', 'answer'])\n",
    "df_moral_scene = pd.read_csv(moral_scenarios_data_path, names=['text', 'A', 'B', 'C', 'D', 'answer'])\n",
    "df_moral_disp = pd.read_csv(moral_disputes_data_path, names=['text', 'A', 'B', 'C', 'D', 'answer'])"
   ]
  },
  {
   "cell_type": "code",
   "execution_count": 6,
   "metadata": {},
   "outputs": [
    {
     "name": "stdout",
     "output_type": "stream",
     "text": [
      "Length Abstract Algebra df: 11\n",
      "Length College math df: 11\n",
      "Length High School math df: 29\n",
      "Length Elementary math df: 41\n",
      "Length Electrical Engineering df: 16\n",
      "Length High school statistics df: 23\n",
      "Length Machine Learning df: 11\n",
      "Length Moral scenarios df: 100\n",
      "Length Moral disputes df: 38\n"
     ]
    }
   ],
   "source": [
    "dataset_sizes = {\n",
    "    'Abstract Algebra': len(df_algebra),\n",
    "    'College math': len(df_college_math),\n",
    "    'High School math': len(df_school_math),\n",
    "    'Elementary math': len(df_elementary_math),\n",
    "    'Electrical Engineering': len(df_electrical),\n",
    "    'High school statistics': len(df_school_stat),\n",
    "    'Machine Learning': len(df_ml),\n",
    "    'Moral scenarios': len(df_moral_scene),\n",
    "    'Moral disputes': len(df_moral_disp)\n",
    "}\n",
    "for key, value in dataset_sizes.items():\n",
    "    print(f\"Length {key} df: {value}\")"
   ]
  },
  {
   "cell_type": "code",
   "execution_count": null,
   "metadata": {},
   "outputs": [],
   "source": []
  },
  {
   "cell_type": "code",
   "execution_count": 10,
   "metadata": {},
   "outputs": [
    {
     "data": {
      "text/html": [
       "<div>\n",
       "<style scoped>\n",
       "    .dataframe tbody tr th:only-of-type {\n",
       "        vertical-align: middle;\n",
       "    }\n",
       "\n",
       "    .dataframe tbody tr th {\n",
       "        vertical-align: top;\n",
       "    }\n",
       "\n",
       "    .dataframe thead th {\n",
       "        text-align: right;\n",
       "    }\n",
       "</style>\n",
       "<table border=\"1\" class=\"dataframe\">\n",
       "  <thead>\n",
       "    <tr style=\"text-align: right;\">\n",
       "      <th></th>\n",
       "      <th>text</th>\n",
       "      <th>A</th>\n",
       "      <th>B</th>\n",
       "      <th>C</th>\n",
       "      <th>D</th>\n",
       "      <th>answer</th>\n",
       "      <th>subject</th>\n",
       "    </tr>\n",
       "  </thead>\n",
       "  <tbody>\n",
       "    <tr>\n",
       "      <th>0</th>\n",
       "      <td>The cyclic subgroup of Z_24 generated by 18 has order</td>\n",
       "      <td>4</td>\n",
       "      <td>8</td>\n",
       "      <td>12</td>\n",
       "      <td>6</td>\n",
       "      <td>A</td>\n",
       "      <td>Abstract Algebra</td>\n",
       "    </tr>\n",
       "    <tr>\n",
       "      <th>1</th>\n",
       "      <td>Find the order of the factor group Z_6/&lt;3&gt;.</td>\n",
       "      <td>2</td>\n",
       "      <td>3</td>\n",
       "      <td>6</td>\n",
       "      <td>12</td>\n",
       "      <td>B</td>\n",
       "      <td>Abstract Algebra</td>\n",
       "    </tr>\n",
       "    <tr>\n",
       "      <th>2</th>\n",
       "      <td>Statement 1 | A permutation that is a product of m even permutations and n odd permutations is an even permutation if and only if n is even. Statement 2 | Every group is isomorphic to a group of permutations.</td>\n",
       "      <td>True, True</td>\n",
       "      <td>False, False</td>\n",
       "      <td>True, False</td>\n",
       "      <td>False, True</td>\n",
       "      <td>A</td>\n",
       "      <td>Abstract Algebra</td>\n",
       "    </tr>\n",
       "    <tr>\n",
       "      <th>3</th>\n",
       "      <td>Find the order of the factor group (Z_4 x Z_12)/(&lt;2&gt; x &lt;2&gt;)</td>\n",
       "      <td>2</td>\n",
       "      <td>3</td>\n",
       "      <td>4</td>\n",
       "      <td>12</td>\n",
       "      <td>C</td>\n",
       "      <td>Abstract Algebra</td>\n",
       "    </tr>\n",
       "    <tr>\n",
       "      <th>4</th>\n",
       "      <td>Find the maximum possible order for some element of Z_4 x Z_6.</td>\n",
       "      <td>4</td>\n",
       "      <td>6</td>\n",
       "      <td>12</td>\n",
       "      <td>24</td>\n",
       "      <td>C</td>\n",
       "      <td>Abstract Algebra</td>\n",
       "    </tr>\n",
       "  </tbody>\n",
       "</table>\n",
       "</div>"
      ],
      "text/plain": [
       "                                                                                                                                                                                                               text  \\\n",
       "0                                                                                                                                                             The cyclic subgroup of Z_24 generated by 18 has order   \n",
       "1                                                                                                                                                                       Find the order of the factor group Z_6/<3>.   \n",
       "2  Statement 1 | A permutation that is a product of m even permutations and n odd permutations is an even permutation if and only if n is even. Statement 2 | Every group is isomorphic to a group of permutations.   \n",
       "3                                                                                                                                                       Find the order of the factor group (Z_4 x Z_12)/(<2> x <2>)   \n",
       "4                                                                                                                                                    Find the maximum possible order for some element of Z_4 x Z_6.   \n",
       "\n",
       "            A             B            C            D answer           subject  \n",
       "0           4             8           12            6      A  Abstract Algebra  \n",
       "1           2             3            6           12      B  Abstract Algebra  \n",
       "2  True, True  False, False  True, False  False, True      A  Abstract Algebra  \n",
       "3           2             3            4           12      C  Abstract Algebra  \n",
       "4           4             6           12           24      C  Abstract Algebra  "
      ]
     },
     "execution_count": 10,
     "metadata": {},
     "output_type": "execute_result"
    }
   ],
   "source": [
    "df_algebra[\"subject\"] = \"Abstract Algebra\"\n",
    "df_college_math[\"subject\"] = \"College math\"\n",
    "df_school_math[\"subject\"] = \"High School math\"\n",
    "df_elementary_math[\"subject\"] = \"Elementary math\"\n",
    "df_electrical[\"subject\"] = \"Electrical Engineering\"\n",
    "df_school_stat[\"subject\"] = \"High school statistics\"\n",
    "df_ml[\"subject\"] = \"Machine Learning\"\n",
    "df_moral_scene[\"subject\"] = \"Moral scenarios\"\n",
    "df_moral_disp[\"subject\"] = \"Moral disputes\"\n",
    "\n",
    "df = pd.concat([df_algebra, df_college_math, df_school_math, df_elementary_math, \\\n",
    "                df_electrical, df_school_stat, df_ml, df_moral_scene, df_moral_disp])\n",
    "df.head()"
   ]
  },
  {
   "cell_type": "code",
   "execution_count": 19,
   "metadata": {},
   "outputs": [
    {
     "data": {
      "text/plain": [
       "subject\n",
       "Moral scenarios           100\n",
       "Elementary math            41\n",
       "Moral disputes             38\n",
       "High School math           29\n",
       "High school statistics     23\n",
       "Electrical Engineering     16\n",
       "Abstract Algebra           11\n",
       "College math               11\n",
       "Machine Learning           11\n",
       "Name: count, dtype: int64"
      ]
     },
     "execution_count": 19,
     "metadata": {},
     "output_type": "execute_result"
    }
   ],
   "source": [
    "df[\"subject\"].value_counts()"
   ]
  },
  {
   "cell_type": "code",
   "execution_count": 25,
   "metadata": {},
   "outputs": [
    {
     "data": {
      "text/plain": [
       "<Axes: xlabel='count', ylabel='subject'>"
      ]
     },
     "execution_count": 25,
     "metadata": {},
     "output_type": "execute_result"
    },
    {
     "data": {
      "image/png": "[encoded data removed]",
      "text/plain": [
       "<Figure size 350x250 with 1 Axes>"
      ]
     },
     "metadata": {},
     "output_type": "display_data"
    }
   ],
   "source": [
    "sns.countplot(y=\"subject\", data=df)"
   ]
  },
  {
   "cell_type": "code",
   "execution_count": null,
   "metadata": {},
   "outputs": [],
   "source": [
    "dataset_avg_text_length = {\n",
    "    'Abstract Algebra': round(df_algebra[\"text\"].apply(len).mean()),\n",
    "    'College math': round(df_college_math[\"text\"].apply(len).mean()),\n",
    "    'High School math': round(df_school_math[\"text\"].apply(len).mean()),\n",
    "    'Elementary math': round(df_elementary_math[\"text\"].apply(len).mean()),\n",
    "    'Electrical Engineering': round(df_electrical[\"text\"].apply(len).mean()),\n",
    "    'High school statistics': round(df_school_stat[\"text\"].apply(len).mean()),\n",
    "    'Machine Learning': round(df_ml[\"text\"].apply(len).mean()),\n",
    "    'Moral scenarios': round(df_moral_scene[\"text\"].apply(len).mean()),\n",
    "    'Moral disputes': round(df_moral_disp[\"text\"].apply(len).mean())\n",
    "}\n",
    "for key, value in dataset_avg_text_length.items():\n",
    "    print(f\"Average text length {key} df: {value}\")\n",
    "all_dfs[1] = dataset_avg_text_length.values()"
   ]
  },
  {
   "cell_type": "code",
   "execution_count": null,
   "metadata": {},
   "outputs": [],
   "source": [
    "sns.set_theme(rc={'figure.figsize':(3.5,2.5)},palette=\"bright\")\n",
    "fig = sns.barplot(data=all_dfs, y=all_dfs.index, x=all_dfs[1])\n",
    "fig.set(xlabel='Average length of question', ylabel='Subjects')"
   ]
  }
 ],
 "metadata": {
  "kernelspec": {
   "display_name": "base",
   "language": "python",
   "name": "python3"
  },
  "language_info": {
   "codemirror_mode": {
    "name": "ipython",
    "version": 3
   },
   "file_extension": ".py",
   "mimetype": "text/x-python",
   "name": "python",
   "nbconvert_exporter": "python",
   "pygments_lexer": "ipython3",
   "version": "3.11.5"
  }
 },
 "nbformat": 4,
 "nbformat_minor": 2
}
