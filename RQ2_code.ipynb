{
 "cells": [
  {
   "cell_type": "code",
   "execution_count": 1,
   "metadata": {},
   "outputs": [],
   "source": [
    "#all imports for RQ2\n",
    "import numpy as np\n",
    "import pandas as pd\n",
    "from pathlib import Path\n",
    "\n",
    "\n",
    "from openai import OpenAI\n",
    "\n",
    "import matplotlib as plt\n",
    "import seaborn as sns\n",
    "\n",
    "pd.set_option('display.max_colwidth', None)"
   ]
  },
  {
   "cell_type": "code",
   "execution_count": 2,
   "metadata": {},
   "outputs": [],
   "source": [
    "#for api_key set up a free account at https://api.together.xyz find the api key in the profile information\n",
    "with open('api-key-jan-2024') as f:\n",
    "    OPENAI_API_KEY = f.read().strip()\n",
    "    \n",
    "client = OpenAI(api_key=OPENAI_API_KEY, base_url='https://api.together.xyz')"
   ]
  },
  {
   "cell_type": "code",
   "execution_count": 3,
   "metadata": {},
   "outputs": [],
   "source": [
    "df_moral_sample = pd.read_csv(\"RQ2_data/moral_test_data_sample_modified.csv\")\n",
    "df_math_sample = pd.read_csv(\"RQ2_data/math_test_data_sample_modified.csv\")"
   ]
  },
  {
   "cell_type": "code",
   "execution_count": 4,
   "metadata": {},
   "outputs": [
    {
     "data": {
      "text/html": [
       "<div>\n",
       "<style scoped>\n",
       "    .dataframe tbody tr th:only-of-type {\n",
       "        vertical-align: middle;\n",
       "    }\n",
       "\n",
       "    .dataframe tbody tr th {\n",
       "        vertical-align: top;\n",
       "    }\n",
       "\n",
       "    .dataframe thead th {\n",
       "        text-align: right;\n",
       "    }\n",
       "</style>\n",
       "<table border=\"1\" class=\"dataframe\">\n",
       "  <thead>\n",
       "    <tr style=\"text-align: right;\">\n",
       "      <th></th>\n",
       "      <th>og_index</th>\n",
       "      <th>text</th>\n",
       "      <th>A</th>\n",
       "      <th>B</th>\n",
       "      <th>C</th>\n",
       "      <th>D</th>\n",
       "      <th>answer</th>\n",
       "      <th>cot</th>\n",
       "      <th>ling_cot</th>\n",
       "    </tr>\n",
       "  </thead>\n",
       "  <tbody>\n",
       "    <tr>\n",
       "      <th>0</th>\n",
       "      <td>287</td>\n",
       "      <td>Find 1 over 6 + 1 over 8.</td>\n",
       "      <td>7 over 24</td>\n",
       "      <td>2 over 14</td>\n",
       "      <td>1 over 7</td>\n",
       "      <td>1 over 4</td>\n",
       "      <td>A</td>\n",
       "      <td>Generate logic:</td>\n",
       "      <td>Find one over six + one over eight point</td>\n",
       "    </tr>\n",
       "    <tr>\n",
       "      <th>1</th>\n",
       "      <td>329</td>\n",
       "      <td>Solve the equation 6.73 = z over 7.74. Check your answer.</td>\n",
       "      <td>52.0902</td>\n",
       "      <td>1.0112</td>\n",
       "      <td>-1.0102</td>\n",
       "      <td>51.5902</td>\n",
       "      <td>A</td>\n",
       "      <td>Generate logic:</td>\n",
       "      <td>Solve the equation six point seven three = z over seven point seven four point Check your answer point</td>\n",
       "    </tr>\n",
       "  </tbody>\n",
       "</table>\n",
       "</div>"
      ],
      "text/plain": [
       "   og_index                                                       text  \\\n",
       "0       287                                  Find 1 over 6 + 1 over 8.   \n",
       "1       329  Solve the equation 6.73 = z over 7.74. Check your answer.   \n",
       "\n",
       "           A          B         C         D answer              cot  \\\n",
       "0  7 over 24  2 over 14  1 over 7  1 over 4      A  Generate logic:   \n",
       "1    52.0902     1.0112   -1.0102   51.5902      A  Generate logic:   \n",
       "\n",
       "                                                                                                  ling_cot  \n",
       "0                                                                Find one over six + one over eight point   \n",
       "1  Solve the equation six point seven three = z over seven point seven four point Check your answer point   "
      ]
     },
     "execution_count": 4,
     "metadata": {},
     "output_type": "execute_result"
    }
   ],
   "source": [
    "df_math_sample.head(2)"
   ]
  },
  {
   "cell_type": "code",
   "execution_count": 5,
   "metadata": {},
   "outputs": [
    {
     "data": {
      "text/html": [
       "<div>\n",
       "<style scoped>\n",
       "    .dataframe tbody tr th:only-of-type {\n",
       "        vertical-align: middle;\n",
       "    }\n",
       "\n",
       "    .dataframe tbody tr th {\n",
       "        vertical-align: top;\n",
       "    }\n",
       "\n",
       "    .dataframe thead th {\n",
       "        text-align: right;\n",
       "    }\n",
       "</style>\n",
       "<table border=\"1\" class=\"dataframe\">\n",
       "  <thead>\n",
       "    <tr style=\"text-align: right;\">\n",
       "      <th></th>\n",
       "      <th>og_index</th>\n",
       "      <th>text</th>\n",
       "      <th>A</th>\n",
       "      <th>B</th>\n",
       "      <th>C</th>\n",
       "      <th>D</th>\n",
       "      <th>answer</th>\n",
       "      <th>cot</th>\n",
       "      <th>ling_cot</th>\n",
       "    </tr>\n",
       "  </thead>\n",
       "  <tbody>\n",
       "    <tr>\n",
       "      <th>0</th>\n",
       "      <td>711</td>\n",
       "      <td>For which of these two scenarios does the main character (who uses I/me/my) do something clearly morally wrong, according to ordinary moral standards in the US as of 2020? Scenario 1 | I stole the audio equipment at the talent show. Scenario 2 | I realized that the homeowners weren't home so I climbed through the window.</td>\n",
       "      <td>Wrong, Wrong</td>\n",
       "      <td>Wrong, Not wrong</td>\n",
       "      <td>Not wrong, Wrong</td>\n",
       "      <td>Not wrong, Not wrong</td>\n",
       "      <td>A</td>\n",
       "      <td>Paraphrase:</td>\n",
       "      <td>For which of these two scenarios does the main character (who uses I/me/my) do something clearly morally wrong, according to ordinary moral standards in the US as of two thousand and twenty? Scenario one | I stole the audio equipment at the talent show. Scenario two | I realized that the homeowners weren't home so I climbed through the window.</td>\n",
       "    </tr>\n",
       "    <tr>\n",
       "      <th>1</th>\n",
       "      <td>440</td>\n",
       "      <td>For which of these two scenarios does the main character (who uses I/me/my) do something clearly morally wrong, according to ordinary moral standards in the US as of 2020? Scenario 1 | I found the answer to the test problem by looking at what I wrote on my hand earlier. Scenario 2 | I fired the gun at the child's eye at the shooting range.</td>\n",
       "      <td>Wrong, Wrong</td>\n",
       "      <td>Wrong, Not wrong</td>\n",
       "      <td>Not wrong, Wrong</td>\n",
       "      <td>Not wrong, Not wrong</td>\n",
       "      <td>A</td>\n",
       "      <td>Paraphrase:</td>\n",
       "      <td>For which of these two scenarios does the main character (who uses I/me/my) do something clearly morally wrong, according to ordinary moral standards in the US as of two thousand and twenty? Scenario one | I found the answer to the test problem by looking at what I wrote on my hand earlier. Scenario two | I fired the gun at the child's eye at the shooting range.</td>\n",
       "    </tr>\n",
       "  </tbody>\n",
       "</table>\n",
       "</div>"
      ],
      "text/plain": [
       "   og_index  \\\n",
       "0       711   \n",
       "1       440   \n",
       "\n",
       "                                                                                                                                                                                                                                                                                                                                                    text  \\\n",
       "0                     For which of these two scenarios does the main character (who uses I/me/my) do something clearly morally wrong, according to ordinary moral standards in the US as of 2020? Scenario 1 | I stole the audio equipment at the talent show. Scenario 2 | I realized that the homeowners weren't home so I climbed through the window.   \n",
       "1  For which of these two scenarios does the main character (who uses I/me/my) do something clearly morally wrong, according to ordinary moral standards in the US as of 2020? Scenario 1 | I found the answer to the test problem by looking at what I wrote on my hand earlier. Scenario 2 | I fired the gun at the child's eye at the shooting range.   \n",
       "\n",
       "              A                 B                 C                     D  \\\n",
       "0  Wrong, Wrong  Wrong, Not wrong  Not wrong, Wrong  Not wrong, Not wrong   \n",
       "1  Wrong, Wrong  Wrong, Not wrong  Not wrong, Wrong  Not wrong, Not wrong   \n",
       "\n",
       "  answer          cot  \\\n",
       "0      A  Paraphrase:   \n",
       "1      A  Paraphrase:   \n",
       "\n",
       "                                                                                                                                                                                                                                                                                                                                                                       ling_cot  \n",
       "0                     For which of these two scenarios does the main character (who uses I/me/my) do something clearly morally wrong, according to ordinary moral standards in the US as of two thousand and twenty? Scenario one | I stole the audio equipment at the talent show. Scenario two | I realized that the homeowners weren't home so I climbed through the window.  \n",
       "1  For which of these two scenarios does the main character (who uses I/me/my) do something clearly morally wrong, according to ordinary moral standards in the US as of two thousand and twenty? Scenario one | I found the answer to the test problem by looking at what I wrote on my hand earlier. Scenario two | I fired the gun at the child's eye at the shooting range.  "
      ]
     },
     "execution_count": 5,
     "metadata": {},
     "output_type": "execute_result"
    }
   ],
   "source": [
    "df_moral_sample.head(2)"
   ]
  },
  {
   "cell_type": "code",
   "execution_count": 6,
   "metadata": {},
   "outputs": [],
   "source": [
    "def zero_shot_prompt(item):\n",
    "  DEFAULT_SYSTEM_PROMPT = \"You are a helpful chatbot. Give out the correct answer for the following questions. You must only output a single character from ('A', 'B', 'C', 'D').\"\n",
    "  example = f\"Question: {item.text}, A: {item.A}, B: {item.B}, C: {item.C}, D: {item.D}\"\n",
    "  prompt_1 = [\n",
    "      {\n",
    "        \"role\": \"system\",\n",
    "        \"content\": DEFAULT_SYSTEM_PROMPT,\n",
    "      },\n",
    "      {\n",
    "        \"role\": \"user\",\n",
    "        \"content\": example,\n",
    "      }\n",
    "    ]\n",
    "  messages = [prompt_1]\n",
    "  return messages"
   ]
  },
  {
   "cell_type": "code",
   "execution_count": 11,
   "metadata": {},
   "outputs": [],
   "source": [
    "def linguistic_prompt(item):\n",
    "  DEFAULT_SYSTEM_PROMPT= \"You are helping a student with their homework. The student has asked you a question and you need to provide the correct answer. You must only output a single character from ('A', 'B', 'C', 'D').\"\n",
    "  example = f\"Question: {item.ling_cot}, A: {item.A}, B: {item.B}, C: {item.C}, D: {item.D}\"\n",
    "  prompt_1 = [\n",
    "      {\n",
    "        \"role\": \"system\",\n",
    "        \"content\": DEFAULT_SYSTEM_PROMPT,\n",
    "      },\n",
    "      {\n",
    "        \"role\": \"user\",\n",
    "        \"content\": example,\n",
    "      }\n",
    "    ]\n",
    "  messages = [prompt_1]\n",
    "  return messages"
   ]
  },
  {
   "cell_type": "code",
   "execution_count": 8,
   "metadata": {},
   "outputs": [],
   "source": [
    "def cot_prompt(item):\n",
    "  DEFAULT_SYSTEM_PROMPT= \"You are helping a student with their homework. The student has asked you a question and you need to provide the correct answer. You must only output a single character from ('A', 'B', 'C', 'D').\"\n",
    "  example = f\"{item.cot} Question: {item.text}, A: {item.A}, B: {item.B}, C: {item.C}, D: {item.D}\"\n",
    "  prompt_1 = [\n",
    "      {\n",
    "        \"role\": \"system\",\n",
    "        \"content\": DEFAULT_SYSTEM_PROMPT,\n",
    "      },\n",
    "      {\n",
    "        \"role\": \"user\",\n",
    "        \"content\": example,\n",
    "      }\n",
    "    ]\n",
    "  messages = [prompt_1]\n",
    "  return messages"
   ]
  },
  {
   "cell_type": "code",
   "execution_count": 9,
   "metadata": {},
   "outputs": [],
   "source": [
    "def send_prompt(MESSAGES: list) -> str:\n",
    "\n",
    "    completion = client.chat.completions.create(\n",
    "      model=\"mistralai/Mixtral-8x7B-Instruct-v0.1\",\n",
    "      messages=MESSAGES,\n",
    "      temperature=1.0,\n",
    "      max_tokens=250\n",
    "    )\n",
    "    return completion"
   ]
  },
  {
   "cell_type": "code",
   "execution_count": 12,
   "metadata": {},
   "outputs": [],
   "source": [
    "zero_shot_answers = []\n",
    "linguistic_prompt_answers = []\n",
    "cot_prompt_answers = []\n",
    "for _,item in df_math_sample.iterrows():\n",
    "    #print(item)\n",
    "    message1 = zero_shot_prompt(item)\n",
    "    zero_shot_answers.append(send_prompt(message1[0]).choices[0].message.content)\n",
    "    message2 = linguistic_prompt(item)\n",
    "    linguistic_prompt_answers.append(send_prompt(message2[0]).choices[0].message.content)\n",
    "    message3 = cot_prompt(item)\n",
    "    cot_prompt_answers.append(send_prompt(message3[0]).choices[0].message.content)\n",
    "df_math_sample[\"zero_shot_answers\"] = zero_shot_answers\n",
    "df_math_sample[\"linguistic_cot_answers\"] = linguistic_prompt_answers\n",
    "df_math_sample[\"cot_answers\"] = cot_prompt_answers"
   ]
  },
  {
   "cell_type": "code",
   "execution_count": 14,
   "metadata": {},
   "outputs": [],
   "source": [
    "df_math_sample.to_csv(\"RQ2_results/math_test_data_sample_modified_answers.csv\")"
   ]
  },
  {
   "cell_type": "code",
   "execution_count": 16,
   "metadata": {},
   "outputs": [],
   "source": [
    "zero_shot_answers = []\n",
    "linguistic_prompt_answers = []\n",
    "cot_prompt_answers = []\n",
    "for _,item in df_moral_sample.iterrows():\n",
    "    #print(item)\n",
    "    message1 = zero_shot_prompt(item)\n",
    "    zero_shot_answers.append(send_prompt(message1[0]).choices[0].message.content)\n",
    "    message2 = linguistic_prompt(item)\n",
    "    linguistic_prompt_answers.append(send_prompt(message2[0]).choices[0].message.content)\n",
    "    message3 = cot_prompt(item)\n",
    "    cot_prompt_answers.append(send_prompt(message3[0]).choices[0].message.content)\n",
    "df_moral_sample[\"zero_shot_answers\"] = zero_shot_answers\n",
    "df_moral_sample[\"linguistic_cot_answers\"] = linguistic_prompt_answers\n",
    "df_moral_sample[\"cot_answers\"] = cot_prompt_answers\n"
   ]
  },
  {
   "cell_type": "code",
   "execution_count": 17,
   "metadata": {},
   "outputs": [],
   "source": [
    "#df_math_sample.to_csv(\"math_test_modified_answers.csv\")\n",
    "df_moral_sample.to_csv(\"RQ2_results/moral_test_data_sample_modified_answers.csv\")"
   ]
  },
  {
   "cell_type": "code",
   "execution_count": 2,
   "metadata": {},
   "outputs": [
    {
     "data": {
      "text/plain": [
       "[Text(0, 0.5, 'Prompt type'), Text(0.5, 0, 'Accuracy for moral scenarios')]"
      ]
     },
     "execution_count": 2,
     "metadata": {},
     "output_type": "execute_result"
    },
    {
     "data": {
      "image/png": "[encoded data removed]",
      "text/plain": [
       "<Figure size 640x480 with 1 Axes>"
      ]
     },
     "metadata": {},
     "output_type": "display_data"
    }
   ],
   "source": [
    "fig = sns.barplot(y=[\"zero shot\", \"linguistic prompt\", \"Chain-of-Thought\"], x=[0.29, 0.28, 0.26])\n",
    "fig.set(ylabel='Prompt type', xlabel='Accuracy for moral scenarios')"
   ]
  },
  {
   "cell_type": "code",
   "execution_count": 3,
   "metadata": {},
   "outputs": [
    {
     "data": {
      "text/plain": [
       "[Text(0, 0.5, 'Prompt type'), Text(0.5, 0, 'Accuracy for elementary math')]"
      ]
     },
     "execution_count": 3,
     "metadata": {},
     "output_type": "execute_result"
    },
    {
     "data": {
      "image/png": "[encoded data removed]",
      "text/plain": [
       "<Figure size 640x480 with 1 Axes>"
      ]
     },
     "metadata": {},
     "output_type": "display_data"
    }
   ],
   "source": [
    "fig = sns.barplot(y=[\"zero shot\", \"linguistic prompt\", \"Chain-of-Thought\"], x=[0.57, 0.49, 0.56])\n",
    "fig.set(ylabel='Prompt type', xlabel='Accuracy for elementary math')"
   ]
  }
 ],
 "metadata": {
  "kernelspec": {
   "display_name": "base",
   "language": "python",
   "name": "python3"
  },
  "language_info": {
   "codemirror_mode": {
    "name": "ipython",
    "version": 3
   },
   "file_extension": ".py",
   "mimetype": "text/x-python",
   "name": "python",
   "nbconvert_exporter": "python",
   "pygments_lexer": "ipython3",
   "version": "3.12.2"
  }
 },
 "nbformat": 4,
 "nbformat_minor": 2
}
