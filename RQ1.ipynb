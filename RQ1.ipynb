{
  "cells": [
    {
      "cell_type": "code",
      "execution_count": 1,
      "metadata": {
        "colab": {
          "base_uri": "https://localhost:8080/",
          "height": 317,
          "referenced_widgets": [
            "3e0da41e2d4a4a8ea1022c781ca320a3",
            "3d1837b088d949e891a3f156deb7cd08",
            "742d2a7e6ed548989731123a1368be3d",
            "ffdf862612f646b5b3e4d42d4b58aadf",
            "e26d17b76c6c4ce1856391fc8d482446",
            "5120895bf6f44602afc5610b916505a5",
            "26ad7ac3b0fd4a2cb2c53527000fd699",
            "608d2114d367489bb623b58976da1e8c",
            "9c50d452cb624cffadfb98654858c5b8",
            "18c7e3c3480d4aa09042fcd7e31ddce8",
            "2631591e009247ca9b494375cf58aa8d",
            "7ff9e984d3c34cdea2d3b0fc4c4b25c1",
            "d6bb9228c7a2401daf9b04652961617a",
            "2dac45ebe80e44faa35d7b9ae1fe0557",
            "70c2c19b07e6446d8d65ed65fb6b4d41",
            "74439e4ba79f47668387efaba79bf45b",
            "b062701c0ba649e486ee9b8a326eff58",
            "424b81b49cce4fd6b418e91e192fa732",
            "bfc02f7429b24549ad15f7114b952c6a",
            "0f41618203c64e239a9ad8add59074cc",
            "ec10e56aef4546e582cbaeb5f1ebcea0",
            "1e5fa8b5579144deb56f512514e6016c",
            "404b218e97354177817b78fdbb36c8a7",
            "9d01e23ded3840e8a12b2585cafa3c0f",
            "7b2b044facdb434e9c1e8122ccb3454f",
            "422b8e2e68fc4e9092c460166ec21eb1",
            "fa909634a20a4ec4991461e186a88738",
            "a02a4caa5a7a46b592bcef34ee614220",
            "067561d092054b4aa8a91a4a449a5e17",
            "02300c118c364b4fadf1150f334b3c7b",
            "1eccead01197483d92844945e98ea679",
            "8355d4c1d39243e09d0a16d5120fb6d4",
            "39289906fee447aeb04ab44b4a654316",
            "87be73ea7d8e4cc092c2739af9f00bae",
            "2d09c3e3a7b14573bcc44983142d0fd7",
            "9b3d82373796470d8a3cc38b09a83ba0",
            "5e833d0ccc0f448592160ec61fc624b0",
            "da65ca25ffbd40a6844e35ac6aa6d099",
            "ffc8f8e7bb5f4196a32d8999a8afc742",
            "004d31981d99456590308752883b9df6",
            "a89aca39c25e494882e484f1689cdabd",
            "3505afd12cd7474fa32d22687d43cd7f",
            "ed94aaea7c19417aa7ba3c16c1c34bfc",
            "e492d35fee804d50810135fa563d9595",
            "35fbabde4ab44a878d127c019ebf85c4",
            "e3b480195e0b4dfab78dd9d498a08490",
            "afa18ec4e1df41788f817a9204e806bc",
            "fd83f07559074927ac3636f5e2641bf5",
            "4e9dbe7118f84859b1c0c34614d04ef3",
            "7174a7a377eb4d008a9d5e40daee71eb",
            "38fcbebdc6814e229b3d85e38b8c2a6d",
            "ad6a5bd46fa54a0a9f8a64e7eb0b57e6",
            "2a1253965ac64eb6b594f03a372de2ea",
            "566051f0da794567ab57481de70afb13",
            "9fc6f31367e14988836a234f9ccc1299",
            "cb943077becd4d07a4635d85304a6a46",
            "d1f160509cfc43c7b149f785e450951d",
            "ffa0bae1dc904bca97acbe5133db50a1",
            "ee49eaeef7da4fb4b0a604587c25892c",
            "2c205fa481f34674806593cef581d6c6",
            "f33956edabd44485acd2096c68955075",
            "b02f350f6e544b30aa8befb4e15fca63",
            "79d664dae3474c3ca6a74df4f2ee824a",
            "933a01b95dce4679b719106cf34a8098",
            "4d1ead4f26624efd888115481060dd46",
            "982b6d98af454be3a5f69b535fd4b7b3"
          ]
        },
        "id": "JQJgImbdQjLW",
        "outputId": "5bf37570-1632-45b2-f0c4-cf7f400cf020"
      },
      "outputs": [
        {
          "name": "stderr",
          "output_type": "stream",
          "text": [
            "d:\\Anaconda\\envs\\pytorch\\lib\\site-packages\\tqdm\\auto.py:21: TqdmWarning: IProgress not found. Please update jupyter and ipywidgets. See https://ipywidgets.readthedocs.io/en/stable/user_install.html\n",
            "  from .autonotebook import tqdm as notebook_tqdm\n"
          ]
        }
      ],
      "source": [
        "import os\n",
        "import pandas as pd\n",
        "import random\n",
        "random_seed = 42\n",
        "import numpy as np\n",
        "\n",
        "import openai\n",
        "from openai import OpenAI\n",
        "\n",
        "from transformers import BertTokenizer, BertModel\n",
        "tokenizer = BertTokenizer.from_pretrained('bert-base-uncased')\n",
        "model = BertModel.from_pretrained(\"bert-base-uncased\")\n",
        "\n",
        "import torch\n",
        "from sklearn.neighbors import NearestNeighbors\n",
        "\n",
        "from tqdm import tqdm\n",
        "from functools import partial"
      ]
    },
    {
      "cell_type": "code",
      "execution_count": 2,
      "metadata": {
        "id": "4N3s8weQH65U"
      },
      "outputs": [],
      "source": [
        "#load mistral-7b api through together.ai\n",
        "with open(\"./api-key-new\") as f:\n",
        "    OPENAI_API_KEY = f.read().strip()\n",
        "\n",
        "client = OpenAI(api_key=OPENAI_API_KEY, base_url='https://api.together.xyz')"
      ]
    },
    {
      "cell_type": "markdown",
      "metadata": {
        "id": "Utb7bb4qTxSy"
      },
      "source": [
        "### 1. combine the dev and val data as training data"
      ]
    },
    {
      "cell_type": "code",
      "execution_count": 3,
      "metadata": {
        "id": "Gq4CCiVCQJeR"
      },
      "outputs": [],
      "source": [
        "# # read and combine the data\n",
        "# def combine_data(folder_path:str)-> pd.DataFrame:\n",
        "#     dataset_types = ['dev', 'val']\n",
        "#     csv_files = [file for file in os.listdir(folder_path) if any(file.endswith(f'{type}.csv') for type in dataset_types)]\n",
        "\n",
        "#     # combine all data in the dataframe\n",
        "#     dfs = []\n",
        "#     for file in csv_files:\n",
        "#         file_path = os.path.join(folder_path, file)\n",
        "#         df = pd.read_csv(file_path, names=['text', 'A', 'B', 'C', 'D', 'answer'])\n",
        "#         print(file_path, len(df))\n",
        "#         dfs.append(df)\n",
        "\n",
        "#     combined_df = pd.concat(dfs, ignore_index=True)\n",
        "\n",
        "#     return combined_df\n"
      ]
    },
    {
      "cell_type": "code",
      "execution_count": 4,
      "metadata": {
        "colab": {
          "base_uri": "https://localhost:8080/"
        },
        "id": "cVLEVeINQ_u0",
        "outputId": "d5dd4f44-be07-4a0f-b809-cbea75714b50"
      },
      "outputs": [],
      "source": [
        "# math_training_data = combine_data(\"../mmlu/elementary_math/\")\n",
        "# len(math_training_data)"
      ]
    },
    {
      "cell_type": "code",
      "execution_count": 5,
      "metadata": {
        "colab": {
          "base_uri": "https://localhost:8080/"
        },
        "id": "sDR-_RviRt8h",
        "outputId": "c3df7e04-d723-44eb-9272-66d3ddc9f9c8"
      },
      "outputs": [],
      "source": [
        "# moral_training_data = combine_data(\"../mmlu/moral_scenarios/\")\n",
        "# len(moral_training_data)"
      ]
    },
    {
      "cell_type": "code",
      "execution_count": 6,
      "metadata": {
        "id": "yyHB_Hl7RvPx"
      },
      "outputs": [],
      "source": [
        "# math_training_data.to_csv(\"./math_train_data.csv\")\n",
        "# moral_training_data.to_csv(\"./moral_train_data.csv\")"
      ]
    },
    {
      "cell_type": "code",
      "execution_count": 7,
      "metadata": {},
      "outputs": [],
      "source": [
        "# df_math_test = pd.read_csv(\"./data/math_test_data.csv\", names=['text', 'A', 'B', 'C', 'D', 'answer'])\n",
        "# df_moral_test = pd.read_csv(\"./data/moral_test_data.csv\", names=['text', 'A', 'B', 'C', 'D', 'answer'])\n",
        "\n",
        "# df_math_test = df_math_test.sample(100, random_state=42)\n",
        "# df_math_test.to_csv(\"./data/math_test_data_sample.csv\")\n",
        "\n",
        "# df_moral_test = df_moral_test.sample(100, random_state=42)\n",
        "# df_moral_test.to_csv(\"./data/moral_test_data_sample.csv\")"
      ]
    },
    {
      "cell_type": "markdown",
      "metadata": {
        "id": "q2mdWIEcT4jd"
      },
      "source": [
        "### 2. read data as dfs"
      ]
    },
    {
      "cell_type": "code",
      "execution_count": 8,
      "metadata": {},
      "outputs": [],
      "source": [
        "df_math_train = pd.read_csv(\"./data/math_train_data.csv\", index_col=0)\n",
        "df_moral_train = pd.read_csv(\"./data/moral_train_data.csv\", index_col=0)"
      ]
    },
    {
      "cell_type": "code",
      "execution_count": 9,
      "metadata": {},
      "outputs": [],
      "source": [
        "df_math_test = pd.read_csv(\"./data/math_test_data_sample.csv\", index_col=0)\n",
        "df_moral_test = pd.read_csv(\"./data/moral_test_data_sample.csv\", index_col=0)"
      ]
    },
    {
      "cell_type": "markdown",
      "metadata": {},
      "source": [
        "### 3. Experimental setting"
      ]
    },
    {
      "cell_type": "markdown",
      "metadata": {},
      "source": [
        "#### LLM setting"
      ]
    },
    {
      "cell_type": "code",
      "execution_count": 10,
      "metadata": {},
      "outputs": [],
      "source": [
        "def send_prompt(MESSAGES: list) -> str:\n",
        "\n",
        "    completion = client.chat.completions.create(\n",
        "      model=\"mistralai/Mixtral-8x7B-Instruct-v0.1\",\n",
        "      # model=\"zephyr-chat\",\n",
        "      messages=MESSAGES,\n",
        "      temperature=1.0,\n",
        "      max_tokens=1,\n",
        "      logprobs=True,\n",
        "      # top_logprobs=4,\n",
        "      # logit_bias=dict_logit_bias\n",
        "    )\n",
        "\n",
        "    return completion"
      ]
    },
    {
      "cell_type": "code",
      "execution_count": 11,
      "metadata": {},
      "outputs": [],
      "source": [
        "def completion_print_and_save(completion, do_print:bool):\n",
        "  top_logprobs = completion.choices[0].logprobs.token_logprobs\n",
        "\n",
        "  max_probs = {'A': float('-inf'), 'B': float('-inf'), 'C': float('-inf'), 'D': float('-inf')}\n",
        "\n",
        "  for token, logprob in zip(completion.choices[0].logprobs.tokens, top_logprobs):\n",
        "      if token in max_probs and logprob > max_probs[token]:\n",
        "          max_probs[token] = logprob\n",
        " \n",
        "  max_option = max(max_probs, key=max_probs.get)\n",
        "\n",
        "  if do_print:\n",
        "    print(\"Output: \\t\", completion.choices[0].message.content)\n",
        "    print(\"\\nTop Logprobs:\")\n",
        "    for option, max_logprob in max_probs.items():\n",
        "        print(f\"{option} \\t {max_logprob} \\t {round(np.exp(max_logprob), 2)}\")\n",
        "    print(\"Max Probability Option:\", max_option)\n",
        "\n",
        "  return completion.choices[0].message.content"
      ]
    },
    {
      "cell_type": "code",
      "execution_count": 12,
      "metadata": {},
      "outputs": [],
      "source": [
        "def process_item(prompting_method, row):\n",
        "    messages = prompting_method(row)\n",
        "    completion = send_prompt(messages[0])\n",
        "    pred = completion_print_and_save(completion, do_print=False)\n",
        "    return pred"
      ]
    },
    {
      "cell_type": "code",
      "execution_count": 13,
      "metadata": {},
      "outputs": [],
      "source": [
        "def dynamic_process_item(dynamic_prompt):\n",
        "    completion = send_prompt(dynamic_prompt[0])\n",
        "    pred = completion_print_and_save(completion, do_print=False)\n",
        "    return pred"
      ]
    },
    {
      "cell_type": "code",
      "execution_count": 14,
      "metadata": {},
      "outputs": [],
      "source": [
        "def acc_calculator(df, pred_col_name):\n",
        "    if df.isnull().values.any():\n",
        "        print(\"Value missing!\")\n",
        "    else:\n",
        "        total_samples = len(df)\n",
        "        correct_predictions = sum(df['answer'] == df[pred_col_name].str.strip().str.upper())\n",
        "        accuracy = correct_predictions / total_samples * 100\n",
        "        print(f\"accuracy: {accuracy:.2f}%\")\n",
        "\n",
        "    return accuracy"
      ]
    },
    {
      "cell_type": "code",
      "execution_count": 15,
      "metadata": {},
      "outputs": [],
      "source": [
        "def inval_ans_calculator(df, pred_col_name):\n",
        "    total_samples = len(df)\n",
        "    valid_answers = df[df[pred_col_name].str.strip().str.upper().isin(['A', 'B', 'C', 'D'])]\n",
        "    invalid_answers_count = total_samples - len(valid_answers)\n",
        "    invalid_answers_percentage = (invalid_answers_count / total_samples) * 100\n",
        "\n",
        "    print(f\"invalid answer percentage: {invalid_answers_percentage:.2f}%\")\n",
        "    return invalid_answers_percentage"
      ]
    },
    {
      "cell_type": "markdown",
      "metadata": {},
      "source": [
        "#### Dynamic Prepare"
      ]
    },
    {
      "cell_type": "code",
      "execution_count": 16,
      "metadata": {},
      "outputs": [],
      "source": [
        "def get_embeddings(texts):\n",
        "    tokenized_texts = [tokenizer.encode(text, add_special_tokens=True, truncation=True, max_length=128) for text in texts]\n",
        "    padded_texts = torch.tensor([tokens + [0] * (128 - len(tokens)) for tokens in tokenized_texts])\n",
        "\n",
        "    with torch.no_grad():\n",
        "        embeddings = model(padded_texts)[0][:, 0, :].numpy()\n",
        "\n",
        "    return embeddings"
      ]
    },
    {
      "cell_type": "code",
      "execution_count": 17,
      "metadata": {},
      "outputs": [],
      "source": [
        "# find the nearest samples in the training set and store their indices\n",
        "def find_dynamic_samples(k, train_embeddings, test_embeddings):\n",
        "    knn = NearestNeighbors(n_neighbors=k, metric='cosine')\n",
        "    knn.fit(train_embeddings)\n",
        "\n",
        "    nearest_samples_indices = []\n",
        "    for embedding in test_embeddings:\n",
        "        _, indices = knn.kneighbors([embedding])\n",
        "        nearest_index = indices[0][:k]\n",
        "        nearest_samples_indices.append(nearest_index)\n",
        "\n",
        "    return nearest_samples_indices"
      ]
    },
    {
      "cell_type": "code",
      "execution_count": 18,
      "metadata": {},
      "outputs": [
        {
          "name": "stderr",
          "output_type": "stream",
          "text": [
            "We strongly recommend passing in an `attention_mask` since your input_ids may be padded. See https://huggingface.co/docs/transformers/troubleshooting#incorrect-output-when-padding-tokens-arent-masked.\n"
          ]
        }
      ],
      "source": [
        "math_train_embeddings = get_embeddings(df_math_train['text'].to_list())\n",
        "math_test_embeddings = get_embeddings(df_math_test['text'].to_list())"
      ]
    },
    {
      "cell_type": "code",
      "execution_count": 19,
      "metadata": {},
      "outputs": [],
      "source": [
        "moral_train_embeddings = get_embeddings(df_moral_train['text'].to_list())\n",
        "moral_test_embeddings = get_embeddings(df_moral_test['text'].to_list())"
      ]
    },
    {
      "cell_type": "code",
      "execution_count": 20,
      "metadata": {},
      "outputs": [],
      "source": [
        "#store_learning_samples should be initialized as an empty list\n",
        "#different from random, we conduct batch process here\n",
        "def dynamic_few_shot_prompt_batch(df_train, df_test, train_embeddings, test_embeddings, sample_number, store_learning_samples):\n",
        "\n",
        "  batch_messages = []\n",
        "\n",
        "  nearest_samples_indices = find_dynamic_samples(sample_number, train_embeddings, test_embeddings)\n",
        "\n",
        "  for item_index, sample_indices in enumerate(nearest_samples_indices):\n",
        "    item = df_test.iloc[item_index]\n",
        "    question = f\"Question: {item.text}, A: {item.A}, B: {item.B}, C: {item.C}, D: {item.D}\"\n",
        "\n",
        "    other_prompt = \"\"\n",
        "\n",
        "    for i, sample_index in enumerate(sample_indices):\n",
        "      sample = df_train.iloc[sample_index]\n",
        "      one_example = f\"Example{i+1}：Question: {sample.text}, A: {sample.A}, B: {sample.B}, C: {sample.C}, D: {sample.D}\\n Correct answer: {sample.answer}\\n\"\n",
        "      other_prompt += one_example\n",
        "\n",
        "    store_learning_samples.append(other_prompt)\n",
        "\n",
        "    prompt_1 = [\n",
        "      {\n",
        "        \"role\": \"system\",\n",
        "        \"content\": f\"{other_prompt}\\nNow answer the following question, and you must only output a single character from ('A', 'B', 'C', 'D')\",\n",
        "      },\n",
        "      {\n",
        "        \"role\": \"user\",\n",
        "        \"content\": question,\n",
        "      }\n",
        "    ]\n",
        "    messages = [prompt_1]\n",
        "    batch_messages.append(messages)\n",
        "\n",
        "  return batch_messages"
      ]
    },
    {
      "cell_type": "markdown",
      "metadata": {},
      "source": [
        "### 4. Experiments"
      ]
    },
    {
      "cell_type": "markdown",
      "metadata": {},
      "source": [
        "#### 4.1 Zero-shot learning"
      ]
    },
    {
      "cell_type": "code",
      "execution_count": 21,
      "metadata": {},
      "outputs": [],
      "source": [
        "def zero_shot_prompt(item):\n",
        "  DEFAULT_SYSTEM_PROMPT= \"You are a helpful chatbot\"\n",
        "  #print(item.A)\n",
        "  other_prompt = \"Give out the correct answer for the following questions. You must only output a single character from ('A', 'B', 'C', 'D').\"\n",
        "  question = f\"Question: {item.text}, A: {item.A}, B: {item.B}, C: {item.C}, D: {item.D}\"\n",
        "  prompt_1 = [\n",
        "      {\n",
        "        \"role\": \"system\",\n",
        "        \"content\": other_prompt,\n",
        "      },\n",
        "      {\n",
        "        \"role\": \"user\",\n",
        "        \"content\": question,\n",
        "      }\n",
        "    ]\n",
        "  messages = [prompt_1]\n",
        "  return messages"
      ]
    },
    {
      "cell_type": "markdown",
      "metadata": {},
      "source": [
        "##### Math"
      ]
    },
    {
      "cell_type": "code",
      "execution_count": 22,
      "metadata": {},
      "outputs": [
        {
          "name": "stdout",
          "output_type": "stream",
          "text": [
            "accuracy: 16.00%\n",
            "invalid answer percentage: 71.00%\n"
          ]
        }
      ],
      "source": [
        "df_math_test['zero_shot_pred'] = df_math_test.apply(lambda row: process_item(zero_shot_prompt, row), axis=1)\n",
        "\n",
        "zero_math_acc = acc_calculator(df_math_test, 'zero_shot_pred')\n",
        "zero_math_invalid = inval_ans_calculator(df_math_test, 'zero_shot_pred')\n",
        "\n",
        "# df_math_test.to_csv(\"zero_shot_math_results.csv\", index=False)"
      ]
    },
    {
      "cell_type": "markdown",
      "metadata": {},
      "source": [
        "##### Moral"
      ]
    },
    {
      "cell_type": "code",
      "execution_count": 23,
      "metadata": {},
      "outputs": [
        {
          "name": "stdout",
          "output_type": "stream",
          "text": [
            "accuracy: 29.00%\n",
            "invalid answer percentage: 22.00%\n"
          ]
        }
      ],
      "source": [
        "df_moral_test['zero_shot_pred'] = df_moral_test.apply(lambda row: process_item(zero_shot_prompt, row), axis=1)\n",
        "\n",
        "zero_moral_acc = acc_calculator(df_moral_test, 'zero_shot_pred')\n",
        "zero_moral_invalid = inval_ans_calculator(df_moral_test, 'zero_shot_pred')\n",
        "\n",
        "# df_moral_test.to_csv(\"zero_shot_moral_results.csv\", index=False)"
      ]
    },
    {
      "cell_type": "markdown",
      "metadata": {},
      "source": [
        "#### 4.2 Random Few-shot"
      ]
    },
    {
      "cell_type": "code",
      "execution_count": 24,
      "metadata": {},
      "outputs": [],
      "source": [
        "#store_learning_samples should be initialized as an empty list\n",
        "def random_few_shot_prompt(item, df_train, sample_number, store_learning_samples):\n",
        "  question = f\"Question: {item.text}, A: {item.A}, B: {item.B}, C: {item.C}, D: {item.D}\"\n",
        "\n",
        "  other_prompt = \"\"\n",
        "\n",
        "  learning_samples = df_train.sample(sample_number)\n",
        "  for i, (_, sample) in enumerate(learning_samples.iterrows()):\n",
        "      one_example = f\"Example{i+1}：Question: {sample.text}, A: {sample.A}, B: {sample.B}, C: {sample.C}, D: {sample.D}\\n Correct answer: {sample.answer}\\n\"\n",
        "      other_prompt += one_example\n",
        "\n",
        "  store_learning_samples.append(other_prompt)\n",
        "\n",
        "  prompt_1 = [\n",
        "    {\n",
        "      \"role\": \"system\",\n",
        "      \"content\": f\"{other_prompt}\\nNow answer the following question, and you must only output a single character from ('A', 'B', 'C', 'D')\",\n",
        "    },\n",
        "    {\n",
        "      \"role\": \"user\",\n",
        "      \"content\": question,\n",
        "    }\n",
        "  ]\n",
        "  messages = [prompt_1]\n",
        "  return messages"
      ]
    },
    {
      "cell_type": "markdown",
      "metadata": {},
      "source": [
        "##### Math"
      ]
    },
    {
      "cell_type": "code",
      "execution_count": 25,
      "metadata": {},
      "outputs": [
        {
          "name": "stdout",
          "output_type": "stream",
          "text": [
            "accuracy: 35.00%\n",
            "invalid answer percentage: 12.00%\n"
          ]
        }
      ],
      "source": [
        "math_random_one_samples = []\n",
        "\n",
        "partial_few_shot_prompt = partial(random_few_shot_prompt, df_train=df_math_train, sample_number=1, store_learning_samples=math_random_one_samples)\n",
        "df_math_test['random_one_pred'] = df_math_test.apply(lambda row: process_item(partial_few_shot_prompt, row), axis=1)\n",
        "\n",
        "random_one_math_acc = acc_calculator(df_math_test, 'random_one_pred')\n",
        "random_one_math_invalid = inval_ans_calculator(df_math_test, 'random_one_pred')\n",
        "\n",
        "df_math_test['random_one_sample'] = math_random_one_samples\n",
        "\n",
        "# df_math_test.to_csv(\"random_one_shot_math_results.csv\", index=False)"
      ]
    },
    {
      "cell_type": "markdown",
      "metadata": {},
      "source": [
        "##### Moral"
      ]
    },
    {
      "cell_type": "code",
      "execution_count": 26,
      "metadata": {},
      "outputs": [
        {
          "name": "stdout",
          "output_type": "stream",
          "text": [
            "accuracy: 47.00%\n",
            "invalid answer percentage: 1.00%\n"
          ]
        }
      ],
      "source": [
        "moral_random_one_samples = []\n",
        "\n",
        "partial_few_shot_prompt = partial(random_few_shot_prompt, df_train=df_moral_train, sample_number=1, store_learning_samples=moral_random_one_samples)\n",
        "df_moral_test['random_one_pred'] = df_moral_test.apply(lambda row: process_item(partial_few_shot_prompt, row), axis=1)\n",
        "\n",
        "random_one_moral_acc = acc_calculator(df_moral_test, 'random_one_pred')\n",
        "random_one_moral_invalid = inval_ans_calculator(df_moral_test, 'random_one_pred')\n",
        "\n",
        "df_moral_test['random_one_sample'] = moral_random_one_samples\n",
        "\n",
        "# df_moral_test.to_csv(\"random_one_shot_moral_results.csv\", index=False)"
      ]
    },
    {
      "cell_type": "markdown",
      "metadata": {},
      "source": [
        "#### 4.3 Random Three-shot"
      ]
    },
    {
      "cell_type": "markdown",
      "metadata": {},
      "source": [
        "##### Math"
      ]
    },
    {
      "cell_type": "code",
      "execution_count": 27,
      "metadata": {},
      "outputs": [
        {
          "name": "stdout",
          "output_type": "stream",
          "text": [
            "accuracy: 39.00%\n",
            "invalid answer percentage: 13.00%\n"
          ]
        }
      ],
      "source": [
        "math_random_three_samples = []\n",
        "\n",
        "partial_few_shot_prompt = partial(random_few_shot_prompt, df_train=df_math_train, sample_number=3, store_learning_samples=math_random_three_samples)\n",
        "df_math_test['random_three_pred'] = df_math_test.apply(lambda row: process_item(partial_few_shot_prompt, row), axis=1)\n",
        "\n",
        "df_math_test['random_three_sample'] = math_random_three_samples\n",
        "\n",
        "random_three_math_acc = acc_calculator(df_math_test, 'random_three_pred')\n",
        "random_three_math_invalid = inval_ans_calculator(df_math_test, 'random_three_pred')\n",
        "\n",
        "# df_math_test.to_csv(\"random_three_shot_math_results.csv\", index=False)"
      ]
    },
    {
      "cell_type": "markdown",
      "metadata": {},
      "source": [
        "##### Moral"
      ]
    },
    {
      "cell_type": "code",
      "execution_count": 28,
      "metadata": {},
      "outputs": [
        {
          "name": "stdout",
          "output_type": "stream",
          "text": [
            "accuracy: 48.00%\n",
            "invalid answer percentage: 8.00%\n"
          ]
        }
      ],
      "source": [
        "moral_random_three_samples = []\n",
        "\n",
        "partial_few_shot_prompt = partial(random_few_shot_prompt, df_train=df_moral_train, sample_number=3, store_learning_samples=moral_random_three_samples)\n",
        "df_moral_test['random_three_pred'] = df_moral_test.apply(lambda row: process_item(partial_few_shot_prompt, row), axis=1)\n",
        "\n",
        "df_moral_test['random_three_sample'] = moral_random_three_samples\n",
        "\n",
        "random_three_moral_acc = acc_calculator(df_moral_test, 'random_three_pred')\n",
        "random_three_moral_invalid = inval_ans_calculator(df_moral_test, 'random_three_pred')\n",
        "\n",
        "# df_moral_test.to_csv(\"random_three_shot_moral_results.csv\", index=False)"
      ]
    },
    {
      "cell_type": "markdown",
      "metadata": {},
      "source": [
        "#### Dynamic One-shot"
      ]
    },
    {
      "cell_type": "markdown",
      "metadata": {},
      "source": [
        "##### Math"
      ]
    },
    {
      "cell_type": "code",
      "execution_count": 29,
      "metadata": {},
      "outputs": [
        {
          "name": "stderr",
          "output_type": "stream",
          "text": [
            "100%|██████████| 100/100 [02:46<00:00,  1.67s/it]"
          ]
        },
        {
          "name": "stdout",
          "output_type": "stream",
          "text": [
            "accuracy: 38.00%\n",
            "invalid answer percentage: 10.00%\n"
          ]
        },
        {
          "name": "stderr",
          "output_type": "stream",
          "text": [
            "\n"
          ]
        }
      ],
      "source": [
        "dynamic_one_shot_math_samples = []\n",
        "dynamic_one_shot_math_prompts = dynamic_few_shot_prompt_batch(df_math_train, df_math_test, math_train_embeddings, math_test_embeddings, 1, dynamic_one_shot_math_samples)\n",
        "\n",
        "dynamic_one_shot_math_results = []\n",
        "for m in tqdm(dynamic_one_shot_math_prompts):\n",
        "    result = dynamic_process_item(m)\n",
        "    dynamic_one_shot_math_results.append(result)\n",
        "\n",
        "df_math_test['dynamic_one_sample'] = dynamic_one_shot_math_samples\n",
        "df_math_test['dynamic_one_pred'] = dynamic_one_shot_math_results\n",
        "\n",
        "dynamic_one_math_acc = acc_calculator(df_math_test, 'dynamic_one_pred')\n",
        "dynamic_one_math_invalid = inval_ans_calculator(df_math_test, 'dynamic_one_pred')\n",
        "\n",
        "# df_math_test.to_csv(\"dynamic_one_shot_math_results.csv\", index=False)"
      ]
    },
    {
      "cell_type": "markdown",
      "metadata": {},
      "source": [
        "##### Moral"
      ]
    },
    {
      "cell_type": "code",
      "execution_count": 30,
      "metadata": {},
      "outputs": [
        {
          "name": "stderr",
          "output_type": "stream",
          "text": [
            "100%|██████████| 100/100 [02:48<00:00,  1.69s/it]"
          ]
        },
        {
          "name": "stdout",
          "output_type": "stream",
          "text": [
            "accuracy: 40.00%\n",
            "invalid answer percentage: 1.00%\n"
          ]
        },
        {
          "name": "stderr",
          "output_type": "stream",
          "text": [
            "\n"
          ]
        }
      ],
      "source": [
        "dynamic_one_shot_moral_samples = []\n",
        "dynamic_one_shot_moral_prompts = dynamic_few_shot_prompt_batch(df_moral_train, df_moral_test, moral_train_embeddings, moral_test_embeddings, 1, dynamic_one_shot_moral_samples)\n",
        "\n",
        "dynamic_one_shot_moral_results = []\n",
        "for m in tqdm(dynamic_one_shot_moral_prompts):\n",
        "    result = dynamic_process_item(m)\n",
        "    dynamic_one_shot_moral_results.append(result)\n",
        "\n",
        "df_moral_test['dynamic_one_sample'] = dynamic_one_shot_moral_samples\n",
        "df_moral_test['dynamic_one_pred'] = dynamic_one_shot_moral_results\n",
        "\n",
        "dynamic_one_moral_acc = acc_calculator(df_moral_test, 'dynamic_one_pred')\n",
        "dynamic_one_moral_invalid = inval_ans_calculator(df_moral_test, 'dynamic_one_pred')\n",
        "\n",
        "# df_moral_test.to_csv(\"dynamic_one_shot_moral_results.csv\", index=False)"
      ]
    },
    {
      "cell_type": "markdown",
      "metadata": {},
      "source": [
        "#### Dynamic Three-shot"
      ]
    },
    {
      "cell_type": "markdown",
      "metadata": {},
      "source": [
        "##### Math"
      ]
    },
    {
      "cell_type": "code",
      "execution_count": 31,
      "metadata": {},
      "outputs": [],
      "source": [
        "dynamic_three_shot_math_samples = []\n",
        "\n",
        "dynamic_three_shot_math_prompts = dynamic_few_shot_prompt_batch(df_math_train, df_math_test, math_train_embeddings, math_test_embeddings, 3, dynamic_three_shot_math_samples)"
      ]
    },
    {
      "cell_type": "code",
      "execution_count": 32,
      "metadata": {},
      "outputs": [
        {
          "name": "stderr",
          "output_type": "stream",
          "text": [
            "100%|██████████| 100/100 [02:49<00:00,  1.70s/it]\n"
          ]
        }
      ],
      "source": [
        "dynamic_three_shot_math_results = []\n",
        "for m in tqdm(dynamic_three_shot_math_prompts):\n",
        "    result = dynamic_process_item(m)\n",
        "    dynamic_three_shot_math_results.append(result)"
      ]
    },
    {
      "cell_type": "code",
      "execution_count": 33,
      "metadata": {},
      "outputs": [],
      "source": [
        "df_math_test['dynamic_three_sample'] = dynamic_three_shot_math_samples\n",
        "df_math_test['dynamic_three_pred'] = dynamic_three_shot_math_results"
      ]
    },
    {
      "cell_type": "code",
      "execution_count": 34,
      "metadata": {},
      "outputs": [
        {
          "name": "stdout",
          "output_type": "stream",
          "text": [
            "accuracy: 40.00%\n",
            "invalid answer percentage: 13.00%\n"
          ]
        }
      ],
      "source": [
        "dynamic_three_math_acc = acc_calculator(df_math_test, 'dynamic_three_pred')\n",
        "dynamic_three_math_invalid = inval_ans_calculator(df_math_test, 'dynamic_three_pred')"
      ]
    },
    {
      "cell_type": "markdown",
      "metadata": {},
      "source": [
        "##### Moral"
      ]
    },
    {
      "cell_type": "code",
      "execution_count": 35,
      "metadata": {},
      "outputs": [],
      "source": [
        "dynamic_three_shot_moral_samples = []\n",
        "\n",
        "dynamic_three_shot_moral_prompts = dynamic_few_shot_prompt_batch(df_moral_train, df_moral_test, moral_train_embeddings, moral_test_embeddings, 3, dynamic_three_shot_moral_samples)"
      ]
    },
    {
      "cell_type": "code",
      "execution_count": 36,
      "metadata": {},
      "outputs": [
        {
          "name": "stderr",
          "output_type": "stream",
          "text": [
            "100%|██████████| 100/100 [02:48<00:00,  1.68s/it]\n"
          ]
        }
      ],
      "source": [
        "dynamic_three_shot_moral_results = []\n",
        "for m in tqdm(dynamic_three_shot_moral_prompts):\n",
        "    result = dynamic_process_item(m)\n",
        "    dynamic_three_shot_moral_results.append(result)"
      ]
    },
    {
      "cell_type": "code",
      "execution_count": 37,
      "metadata": {},
      "outputs": [],
      "source": [
        "df_moral_test['dynamic_three_sample'] = dynamic_three_shot_moral_samples\n",
        "df_moral_test['dynamic_three_pred'] = dynamic_three_shot_moral_results"
      ]
    },
    {
      "cell_type": "code",
      "execution_count": 38,
      "metadata": {},
      "outputs": [
        {
          "name": "stdout",
          "output_type": "stream",
          "text": [
            "accuracy: 53.00%\n",
            "invalid answer percentage: 1.00%\n"
          ]
        }
      ],
      "source": [
        "dynamic_three_moral_acc = acc_calculator(df_moral_test, 'dynamic_three_pred')\n",
        "dynamic_three_moral_invalid = inval_ans_calculator(df_moral_test, 'dynamic_three_pred')"
      ]
    },
    {
      "cell_type": "markdown",
      "metadata": {},
      "source": [
        "### 5. Save results"
      ]
    },
    {
      "cell_type": "code",
      "execution_count": 39,
      "metadata": {},
      "outputs": [],
      "source": [
        "df_math_test.to_csv(\"math_RQ1_results.csv\", index=False)"
      ]
    },
    {
      "cell_type": "code",
      "execution_count": 40,
      "metadata": {},
      "outputs": [],
      "source": [
        "df_moral_test.to_csv(\"moral_RQ1_results.csv\", index=False)"
      ]
    }
  ],
  "metadata": {
    "accelerator": "GPU",
    "colab": {
      "gpuType": "T4",
      "provenance": []
    },
    "kernelspec": {
      "display_name": "Python 3",
      "name": "python3"
    },
    "language_info": {
      "codemirror_mode": {
        "name": "ipython",
        "version": 3
      },
      "file_extension": ".py",
      "mimetype": "text/x-python",
      "name": "python",
      "nbconvert_exporter": "python",
      "pygments_lexer": "ipython3",
      "version": "3.10.13"
    },
    "widgets": {
      "application/vnd.jupyter.widget-state+json": {
        "004d31981d99456590308752883b9df6": {
          "model_module": "@jupyter-widgets/controls",
          "model_module_version": "1.5.0",
          "model_name": "DescriptionStyleModel",
          "state": {
            "_model_module": "@jupyter-widgets/controls",
            "_model_module_version": "1.5.0",
            "_model_name": "DescriptionStyleModel",
            "_view_count": null,
            "_view_module": "@jupyter-widgets/base",
            "_view_module_version": "1.2.0",
            "_view_name": "StyleView",
            "description_width": ""
          }
        },
        "02300c118c364b4fadf1150f334b3c7b": {
          "model_module": "@jupyter-widgets/base",
          "model_module_version": "1.2.0",
          "model_name": "LayoutModel",
          "state": {
            "_model_module": "@jupyter-widgets/base",
            "_model_module_version": "1.2.0",
            "_model_name": "LayoutModel",
            "_view_count": null,
            "_view_module": "@jupyter-widgets/base",
            "_view_module_version": "1.2.0",
            "_view_name": "LayoutView",
            "align_content": null,
            "align_items": null,
            "align_self": null,
            "border": null,
            "bottom": null,
            "display": null,
            "flex": null,
            "flex_flow": null,
            "grid_area": null,
            "grid_auto_columns": null,
            "grid_auto_flow": null,
            "grid_auto_rows": null,
            "grid_column": null,
            "grid_gap": null,
            "grid_row": null,
            "grid_template_areas": null,
            "grid_template_columns": null,
            "grid_template_rows": null,
            "height": null,
            "justify_content": null,
            "justify_items": null,
            "left": null,
            "margin": null,
            "max_height": null,
            "max_width": null,
            "min_height": null,
            "min_width": null,
            "object_fit": null,
            "object_position": null,
            "order": null,
            "overflow": null,
            "overflow_x": null,
            "overflow_y": null,
            "padding": null,
            "right": null,
            "top": null,
            "visibility": null,
            "width": null
          }
        },
        "067561d092054b4aa8a91a4a449a5e17": {
          "model_module": "@jupyter-widgets/controls",
          "model_module_version": "1.5.0",
          "model_name": "DescriptionStyleModel",
          "state": {
            "_model_module": "@jupyter-widgets/controls",
            "_model_module_version": "1.5.0",
            "_model_name": "DescriptionStyleModel",
            "_view_count": null,
            "_view_module": "@jupyter-widgets/base",
            "_view_module_version": "1.2.0",
            "_view_name": "StyleView",
            "description_width": ""
          }
        },
        "0f41618203c64e239a9ad8add59074cc": {
          "model_module": "@jupyter-widgets/controls",
          "model_module_version": "1.5.0",
          "model_name": "ProgressStyleModel",
          "state": {
            "_model_module": "@jupyter-widgets/controls",
            "_model_module_version": "1.5.0",
            "_model_name": "ProgressStyleModel",
            "_view_count": null,
            "_view_module": "@jupyter-widgets/base",
            "_view_module_version": "1.2.0",
            "_view_name": "StyleView",
            "bar_color": null,
            "description_width": ""
          }
        },
        "18c7e3c3480d4aa09042fcd7e31ddce8": {
          "model_module": "@jupyter-widgets/base",
          "model_module_version": "1.2.0",
          "model_name": "LayoutModel",
          "state": {
            "_model_module": "@jupyter-widgets/base",
            "_model_module_version": "1.2.0",
            "_model_name": "LayoutModel",
            "_view_count": null,
            "_view_module": "@jupyter-widgets/base",
            "_view_module_version": "1.2.0",
            "_view_name": "LayoutView",
            "align_content": null,
            "align_items": null,
            "align_self": null,
            "border": null,
            "bottom": null,
            "display": null,
            "flex": null,
            "flex_flow": null,
            "grid_area": null,
            "grid_auto_columns": null,
            "grid_auto_flow": null,
            "grid_auto_rows": null,
            "grid_column": null,
            "grid_gap": null,
            "grid_row": null,
            "grid_template_areas": null,
            "grid_template_columns": null,
            "grid_template_rows": null,
            "height": null,
            "justify_content": null,
            "justify_items": null,
            "left": null,
            "margin": null,
            "max_height": null,
            "max_width": null,
            "min_height": null,
            "min_width": null,
            "object_fit": null,
            "object_position": null,
            "order": null,
            "overflow": null,
            "overflow_x": null,
            "overflow_y": null,
            "padding": null,
            "right": null,
            "top": null,
            "visibility": null,
            "width": null
          }
        },
        "1e5fa8b5579144deb56f512514e6016c": {
          "model_module": "@jupyter-widgets/controls",
          "model_module_version": "1.5.0",
          "model_name": "DescriptionStyleModel",
          "state": {
            "_model_module": "@jupyter-widgets/controls",
            "_model_module_version": "1.5.0",
            "_model_name": "DescriptionStyleModel",
            "_view_count": null,
            "_view_module": "@jupyter-widgets/base",
            "_view_module_version": "1.2.0",
            "_view_name": "StyleView",
            "description_width": ""
          }
        },
        "1eccead01197483d92844945e98ea679": {
          "model_module": "@jupyter-widgets/controls",
          "model_module_version": "1.5.0",
          "model_name": "ProgressStyleModel",
          "state": {
            "_model_module": "@jupyter-widgets/controls",
            "_model_module_version": "1.5.0",
            "_model_name": "ProgressStyleModel",
            "_view_count": null,
            "_view_module": "@jupyter-widgets/base",
            "_view_module_version": "1.2.0",
            "_view_name": "StyleView",
            "bar_color": null,
            "description_width": ""
          }
        },
        "2631591e009247ca9b494375cf58aa8d": {
          "model_module": "@jupyter-widgets/controls",
          "model_module_version": "1.5.0",
          "model_name": "DescriptionStyleModel",
          "state": {
            "_model_module": "@jupyter-widgets/controls",
            "_model_module_version": "1.5.0",
            "_model_name": "DescriptionStyleModel",
            "_view_count": null,
            "_view_module": "@jupyter-widgets/base",
            "_view_module_version": "1.2.0",
            "_view_name": "StyleView",
            "description_width": ""
          }
        },
        "26ad7ac3b0fd4a2cb2c53527000fd699": {
          "model_module": "@jupyter-widgets/controls",
          "model_module_version": "1.5.0",
          "model_name": "DescriptionStyleModel",
          "state": {
            "_model_module": "@jupyter-widgets/controls",
            "_model_module_version": "1.5.0",
            "_model_name": "DescriptionStyleModel",
            "_view_count": null,
            "_view_module": "@jupyter-widgets/base",
            "_view_module_version": "1.2.0",
            "_view_name": "StyleView",
            "description_width": ""
          }
        },
        "2a1253965ac64eb6b594f03a372de2ea": {
          "model_module": "@jupyter-widgets/controls",
          "model_module_version": "1.5.0",
          "model_name": "ProgressStyleModel",
          "state": {
            "_model_module": "@jupyter-widgets/controls",
            "_model_module_version": "1.5.0",
            "_model_name": "ProgressStyleModel",
            "_view_count": null,
            "_view_module": "@jupyter-widgets/base",
            "_view_module_version": "1.2.0",
            "_view_name": "StyleView",
            "bar_color": null,
            "description_width": ""
          }
        },
        "2c205fa481f34674806593cef581d6c6": {
          "model_module": "@jupyter-widgets/base",
          "model_module_version": "1.2.0",
          "model_name": "LayoutModel",
          "state": {
            "_model_module": "@jupyter-widgets/base",
            "_model_module_version": "1.2.0",
            "_model_name": "LayoutModel",
            "_view_count": null,
            "_view_module": "@jupyter-widgets/base",
            "_view_module_version": "1.2.0",
            "_view_name": "LayoutView",
            "align_content": null,
            "align_items": null,
            "align_self": null,
            "border": null,
            "bottom": null,
            "display": null,
            "flex": null,
            "flex_flow": null,
            "grid_area": null,
            "grid_auto_columns": null,
            "grid_auto_flow": null,
            "grid_auto_rows": null,
            "grid_column": null,
            "grid_gap": null,
            "grid_row": null,
            "grid_template_areas": null,
            "grid_template_columns": null,
            "grid_template_rows": null,
            "height": null,
            "justify_content": null,
            "justify_items": null,
            "left": null,
            "margin": null,
            "max_height": null,
            "max_width": null,
            "min_height": null,
            "min_width": null,
            "object_fit": null,
            "object_position": null,
            "order": null,
            "overflow": null,
            "overflow_x": null,
            "overflow_y": null,
            "padding": null,
            "right": null,
            "top": null,
            "visibility": null,
            "width": null
          }
        },
        "2d09c3e3a7b14573bcc44983142d0fd7": {
          "model_module": "@jupyter-widgets/controls",
          "model_module_version": "1.5.0",
          "model_name": "HTMLModel",
          "state": {
            "_dom_classes": [],
            "_model_module": "@jupyter-widgets/controls",
            "_model_module_version": "1.5.0",
            "_model_name": "HTMLModel",
            "_view_count": null,
            "_view_module": "@jupyter-widgets/controls",
            "_view_module_version": "1.5.0",
            "_view_name": "HTMLView",
            "description": "",
            "description_tooltip": null,
            "layout": "IPY_MODEL_ffc8f8e7bb5f4196a32d8999a8afc742",
            "placeholder": "​",
            "style": "IPY_MODEL_004d31981d99456590308752883b9df6",
            "value": "model-00001-of-00002.safetensors: 100%"
          }
        },
        "2dac45ebe80e44faa35d7b9ae1fe0557": {
          "model_module": "@jupyter-widgets/controls",
          "model_module_version": "1.5.0",
          "model_name": "FloatProgressModel",
          "state": {
            "_dom_classes": [],
            "_model_module": "@jupyter-widgets/controls",
            "_model_module_version": "1.5.0",
            "_model_name": "FloatProgressModel",
            "_view_count": null,
            "_view_module": "@jupyter-widgets/controls",
            "_view_module_version": "1.5.0",
            "_view_name": "ProgressView",
            "bar_style": "success",
            "description": "",
            "description_tooltip": null,
            "layout": "IPY_MODEL_bfc02f7429b24549ad15f7114b952c6a",
            "max": 25125,
            "min": 0,
            "orientation": "horizontal",
            "style": "IPY_MODEL_0f41618203c64e239a9ad8add59074cc",
            "value": 25125
          }
        },
        "3505afd12cd7474fa32d22687d43cd7f": {
          "model_module": "@jupyter-widgets/controls",
          "model_module_version": "1.5.0",
          "model_name": "ProgressStyleModel",
          "state": {
            "_model_module": "@jupyter-widgets/controls",
            "_model_module_version": "1.5.0",
            "_model_name": "ProgressStyleModel",
            "_view_count": null,
            "_view_module": "@jupyter-widgets/base",
            "_view_module_version": "1.2.0",
            "_view_name": "StyleView",
            "bar_color": null,
            "description_width": ""
          }
        },
        "35fbabde4ab44a878d127c019ebf85c4": {
          "model_module": "@jupyter-widgets/controls",
          "model_module_version": "1.5.0",
          "model_name": "HBoxModel",
          "state": {
            "_dom_classes": [],
            "_model_module": "@jupyter-widgets/controls",
            "_model_module_version": "1.5.0",
            "_model_name": "HBoxModel",
            "_view_count": null,
            "_view_module": "@jupyter-widgets/controls",
            "_view_module_version": "1.5.0",
            "_view_name": "HBoxView",
            "box_style": "",
            "children": [
              "IPY_MODEL_e3b480195e0b4dfab78dd9d498a08490",
              "IPY_MODEL_afa18ec4e1df41788f817a9204e806bc",
              "IPY_MODEL_fd83f07559074927ac3636f5e2641bf5"
            ],
            "layout": "IPY_MODEL_4e9dbe7118f84859b1c0c34614d04ef3"
          }
        },
        "38fcbebdc6814e229b3d85e38b8c2a6d": {
          "model_module": "@jupyter-widgets/controls",
          "model_module_version": "1.5.0",
          "model_name": "DescriptionStyleModel",
          "state": {
            "_model_module": "@jupyter-widgets/controls",
            "_model_module_version": "1.5.0",
            "_model_name": "DescriptionStyleModel",
            "_view_count": null,
            "_view_module": "@jupyter-widgets/base",
            "_view_module_version": "1.2.0",
            "_view_name": "StyleView",
            "description_width": ""
          }
        },
        "39289906fee447aeb04ab44b4a654316": {
          "model_module": "@jupyter-widgets/controls",
          "model_module_version": "1.5.0",
          "model_name": "DescriptionStyleModel",
          "state": {
            "_model_module": "@jupyter-widgets/controls",
            "_model_module_version": "1.5.0",
            "_model_name": "DescriptionStyleModel",
            "_view_count": null,
            "_view_module": "@jupyter-widgets/base",
            "_view_module_version": "1.2.0",
            "_view_name": "StyleView",
            "description_width": ""
          }
        },
        "3d1837b088d949e891a3f156deb7cd08": {
          "model_module": "@jupyter-widgets/controls",
          "model_module_version": "1.5.0",
          "model_name": "HTMLModel",
          "state": {
            "_dom_classes": [],
            "_model_module": "@jupyter-widgets/controls",
            "_model_module_version": "1.5.0",
            "_model_name": "HTMLModel",
            "_view_count": null,
            "_view_module": "@jupyter-widgets/controls",
            "_view_module_version": "1.5.0",
            "_view_name": "HTMLView",
            "description": "",
            "description_tooltip": null,
            "layout": "IPY_MODEL_5120895bf6f44602afc5610b916505a5",
            "placeholder": "​",
            "style": "IPY_MODEL_26ad7ac3b0fd4a2cb2c53527000fd699",
            "value": "config.json: 100%"
          }
        },
        "3e0da41e2d4a4a8ea1022c781ca320a3": {
          "model_module": "@jupyter-widgets/controls",
          "model_module_version": "1.5.0",
          "model_name": "HBoxModel",
          "state": {
            "_dom_classes": [],
            "_model_module": "@jupyter-widgets/controls",
            "_model_module_version": "1.5.0",
            "_model_name": "HBoxModel",
            "_view_count": null,
            "_view_module": "@jupyter-widgets/controls",
            "_view_module_version": "1.5.0",
            "_view_name": "HBoxView",
            "box_style": "",
            "children": [
              "IPY_MODEL_3d1837b088d949e891a3f156deb7cd08",
              "IPY_MODEL_742d2a7e6ed548989731123a1368be3d",
              "IPY_MODEL_ffdf862612f646b5b3e4d42d4b58aadf"
            ],
            "layout": "IPY_MODEL_e26d17b76c6c4ce1856391fc8d482446"
          }
        },
        "404b218e97354177817b78fdbb36c8a7": {
          "model_module": "@jupyter-widgets/controls",
          "model_module_version": "1.5.0",
          "model_name": "HBoxModel",
          "state": {
            "_dom_classes": [],
            "_model_module": "@jupyter-widgets/controls",
            "_model_module_version": "1.5.0",
            "_model_name": "HBoxModel",
            "_view_count": null,
            "_view_module": "@jupyter-widgets/controls",
            "_view_module_version": "1.5.0",
            "_view_name": "HBoxView",
            "box_style": "",
            "children": [
              "IPY_MODEL_9d01e23ded3840e8a12b2585cafa3c0f",
              "IPY_MODEL_7b2b044facdb434e9c1e8122ccb3454f",
              "IPY_MODEL_422b8e2e68fc4e9092c460166ec21eb1"
            ],
            "layout": "IPY_MODEL_fa909634a20a4ec4991461e186a88738"
          }
        },
        "422b8e2e68fc4e9092c460166ec21eb1": {
          "model_module": "@jupyter-widgets/controls",
          "model_module_version": "1.5.0",
          "model_name": "HTMLModel",
          "state": {
            "_dom_classes": [],
            "_model_module": "@jupyter-widgets/controls",
            "_model_module_version": "1.5.0",
            "_model_name": "HTMLModel",
            "_view_count": null,
            "_view_module": "@jupyter-widgets/controls",
            "_view_module_version": "1.5.0",
            "_view_name": "HTMLView",
            "description": "",
            "description_tooltip": null,
            "layout": "IPY_MODEL_8355d4c1d39243e09d0a16d5120fb6d4",
            "placeholder": "​",
            "style": "IPY_MODEL_39289906fee447aeb04ab44b4a654316",
            "value": " 2/2 [02:09&lt;00:00, 59.63s/it]"
          }
        },
        "424b81b49cce4fd6b418e91e192fa732": {
          "model_module": "@jupyter-widgets/controls",
          "model_module_version": "1.5.0",
          "model_name": "DescriptionStyleModel",
          "state": {
            "_model_module": "@jupyter-widgets/controls",
            "_model_module_version": "1.5.0",
            "_model_name": "DescriptionStyleModel",
            "_view_count": null,
            "_view_module": "@jupyter-widgets/base",
            "_view_module_version": "1.2.0",
            "_view_name": "StyleView",
            "description_width": ""
          }
        },
        "4d1ead4f26624efd888115481060dd46": {
          "model_module": "@jupyter-widgets/base",
          "model_module_version": "1.2.0",
          "model_name": "LayoutModel",
          "state": {
            "_model_module": "@jupyter-widgets/base",
            "_model_module_version": "1.2.0",
            "_model_name": "LayoutModel",
            "_view_count": null,
            "_view_module": "@jupyter-widgets/base",
            "_view_module_version": "1.2.0",
            "_view_name": "LayoutView",
            "align_content": null,
            "align_items": null,
            "align_self": null,
            "border": null,
            "bottom": null,
            "display": null,
            "flex": null,
            "flex_flow": null,
            "grid_area": null,
            "grid_auto_columns": null,
            "grid_auto_flow": null,
            "grid_auto_rows": null,
            "grid_column": null,
            "grid_gap": null,
            "grid_row": null,
            "grid_template_areas": null,
            "grid_template_columns": null,
            "grid_template_rows": null,
            "height": null,
            "justify_content": null,
            "justify_items": null,
            "left": null,
            "margin": null,
            "max_height": null,
            "max_width": null,
            "min_height": null,
            "min_width": null,
            "object_fit": null,
            "object_position": null,
            "order": null,
            "overflow": null,
            "overflow_x": null,
            "overflow_y": null,
            "padding": null,
            "right": null,
            "top": null,
            "visibility": null,
            "width": null
          }
        },
        "4e9dbe7118f84859b1c0c34614d04ef3": {
          "model_module": "@jupyter-widgets/base",
          "model_module_version": "1.2.0",
          "model_name": "LayoutModel",
          "state": {
            "_model_module": "@jupyter-widgets/base",
            "_model_module_version": "1.2.0",
            "_model_name": "LayoutModel",
            "_view_count": null,
            "_view_module": "@jupyter-widgets/base",
            "_view_module_version": "1.2.0",
            "_view_name": "LayoutView",
            "align_content": null,
            "align_items": null,
            "align_self": null,
            "border": null,
            "bottom": null,
            "display": null,
            "flex": null,
            "flex_flow": null,
            "grid_area": null,
            "grid_auto_columns": null,
            "grid_auto_flow": null,
            "grid_auto_rows": null,
            "grid_column": null,
            "grid_gap": null,
            "grid_row": null,
            "grid_template_areas": null,
            "grid_template_columns": null,
            "grid_template_rows": null,
            "height": null,
            "justify_content": null,
            "justify_items": null,
            "left": null,
            "margin": null,
            "max_height": null,
            "max_width": null,
            "min_height": null,
            "min_width": null,
            "object_fit": null,
            "object_position": null,
            "order": null,
            "overflow": null,
            "overflow_x": null,
            "overflow_y": null,
            "padding": null,
            "right": null,
            "top": null,
            "visibility": null,
            "width": null
          }
        },
        "5120895bf6f44602afc5610b916505a5": {
          "model_module": "@jupyter-widgets/base",
          "model_module_version": "1.2.0",
          "model_name": "LayoutModel",
          "state": {
            "_model_module": "@jupyter-widgets/base",
            "_model_module_version": "1.2.0",
            "_model_name": "LayoutModel",
            "_view_count": null,
            "_view_module": "@jupyter-widgets/base",
            "_view_module_version": "1.2.0",
            "_view_name": "LayoutView",
            "align_content": null,
            "align_items": null,
            "align_self": null,
            "border": null,
            "bottom": null,
            "display": null,
            "flex": null,
            "flex_flow": null,
            "grid_area": null,
            "grid_auto_columns": null,
            "grid_auto_flow": null,
            "grid_auto_rows": null,
            "grid_column": null,
            "grid_gap": null,
            "grid_row": null,
            "grid_template_areas": null,
            "grid_template_columns": null,
            "grid_template_rows": null,
            "height": null,
            "justify_content": null,
            "justify_items": null,
            "left": null,
            "margin": null,
            "max_height": null,
            "max_width": null,
            "min_height": null,
            "min_width": null,
            "object_fit": null,
            "object_position": null,
            "order": null,
            "overflow": null,
            "overflow_x": null,
            "overflow_y": null,
            "padding": null,
            "right": null,
            "top": null,
            "visibility": null,
            "width": null
          }
        },
        "566051f0da794567ab57481de70afb13": {
          "model_module": "@jupyter-widgets/base",
          "model_module_version": "1.2.0",
          "model_name": "LayoutModel",
          "state": {
            "_model_module": "@jupyter-widgets/base",
            "_model_module_version": "1.2.0",
            "_model_name": "LayoutModel",
            "_view_count": null,
            "_view_module": "@jupyter-widgets/base",
            "_view_module_version": "1.2.0",
            "_view_name": "LayoutView",
            "align_content": null,
            "align_items": null,
            "align_self": null,
            "border": null,
            "bottom": null,
            "display": null,
            "flex": null,
            "flex_flow": null,
            "grid_area": null,
            "grid_auto_columns": null,
            "grid_auto_flow": null,
            "grid_auto_rows": null,
            "grid_column": null,
            "grid_gap": null,
            "grid_row": null,
            "grid_template_areas": null,
            "grid_template_columns": null,
            "grid_template_rows": null,
            "height": null,
            "justify_content": null,
            "justify_items": null,
            "left": null,
            "margin": null,
            "max_height": null,
            "max_width": null,
            "min_height": null,
            "min_width": null,
            "object_fit": null,
            "object_position": null,
            "order": null,
            "overflow": null,
            "overflow_x": null,
            "overflow_y": null,
            "padding": null,
            "right": null,
            "top": null,
            "visibility": null,
            "width": null
          }
        },
        "5e833d0ccc0f448592160ec61fc624b0": {
          "model_module": "@jupyter-widgets/controls",
          "model_module_version": "1.5.0",
          "model_name": "HTMLModel",
          "state": {
            "_dom_classes": [],
            "_model_module": "@jupyter-widgets/controls",
            "_model_module_version": "1.5.0",
            "_model_name": "HTMLModel",
            "_view_count": null,
            "_view_module": "@jupyter-widgets/controls",
            "_view_module_version": "1.5.0",
            "_view_name": "HTMLView",
            "description": "",
            "description_tooltip": null,
            "layout": "IPY_MODEL_ed94aaea7c19417aa7ba3c16c1c34bfc",
            "placeholder": "​",
            "style": "IPY_MODEL_e492d35fee804d50810135fa563d9595",
            "value": " 9.94G/9.94G [01:32&lt;00:00, 89.0MB/s]"
          }
        },
        "608d2114d367489bb623b58976da1e8c": {
          "model_module": "@jupyter-widgets/base",
          "model_module_version": "1.2.0",
          "model_name": "LayoutModel",
          "state": {
            "_model_module": "@jupyter-widgets/base",
            "_model_module_version": "1.2.0",
            "_model_name": "LayoutModel",
            "_view_count": null,
            "_view_module": "@jupyter-widgets/base",
            "_view_module_version": "1.2.0",
            "_view_name": "LayoutView",
            "align_content": null,
            "align_items": null,
            "align_self": null,
            "border": null,
            "bottom": null,
            "display": null,
            "flex": null,
            "flex_flow": null,
            "grid_area": null,
            "grid_auto_columns": null,
            "grid_auto_flow": null,
            "grid_auto_rows": null,
            "grid_column": null,
            "grid_gap": null,
            "grid_row": null,
            "grid_template_areas": null,
            "grid_template_columns": null,
            "grid_template_rows": null,
            "height": null,
            "justify_content": null,
            "justify_items": null,
            "left": null,
            "margin": null,
            "max_height": null,
            "max_width": null,
            "min_height": null,
            "min_width": null,
            "object_fit": null,
            "object_position": null,
            "order": null,
            "overflow": null,
            "overflow_x": null,
            "overflow_y": null,
            "padding": null,
            "right": null,
            "top": null,
            "visibility": null,
            "width": null
          }
        },
        "70c2c19b07e6446d8d65ed65fb6b4d41": {
          "model_module": "@jupyter-widgets/controls",
          "model_module_version": "1.5.0",
          "model_name": "HTMLModel",
          "state": {
            "_dom_classes": [],
            "_model_module": "@jupyter-widgets/controls",
            "_model_module_version": "1.5.0",
            "_model_name": "HTMLModel",
            "_view_count": null,
            "_view_module": "@jupyter-widgets/controls",
            "_view_module_version": "1.5.0",
            "_view_name": "HTMLView",
            "description": "",
            "description_tooltip": null,
            "layout": "IPY_MODEL_ec10e56aef4546e582cbaeb5f1ebcea0",
            "placeholder": "​",
            "style": "IPY_MODEL_1e5fa8b5579144deb56f512514e6016c",
            "value": " 25.1k/25.1k [00:00&lt;00:00, 1.29MB/s]"
          }
        },
        "7174a7a377eb4d008a9d5e40daee71eb": {
          "model_module": "@jupyter-widgets/base",
          "model_module_version": "1.2.0",
          "model_name": "LayoutModel",
          "state": {
            "_model_module": "@jupyter-widgets/base",
            "_model_module_version": "1.2.0",
            "_model_name": "LayoutModel",
            "_view_count": null,
            "_view_module": "@jupyter-widgets/base",
            "_view_module_version": "1.2.0",
            "_view_name": "LayoutView",
            "align_content": null,
            "align_items": null,
            "align_self": null,
            "border": null,
            "bottom": null,
            "display": null,
            "flex": null,
            "flex_flow": null,
            "grid_area": null,
            "grid_auto_columns": null,
            "grid_auto_flow": null,
            "grid_auto_rows": null,
            "grid_column": null,
            "grid_gap": null,
            "grid_row": null,
            "grid_template_areas": null,
            "grid_template_columns": null,
            "grid_template_rows": null,
            "height": null,
            "justify_content": null,
            "justify_items": null,
            "left": null,
            "margin": null,
            "max_height": null,
            "max_width": null,
            "min_height": null,
            "min_width": null,
            "object_fit": null,
            "object_position": null,
            "order": null,
            "overflow": null,
            "overflow_x": null,
            "overflow_y": null,
            "padding": null,
            "right": null,
            "top": null,
            "visibility": null,
            "width": null
          }
        },
        "742d2a7e6ed548989731123a1368be3d": {
          "model_module": "@jupyter-widgets/controls",
          "model_module_version": "1.5.0",
          "model_name": "FloatProgressModel",
          "state": {
            "_dom_classes": [],
            "_model_module": "@jupyter-widgets/controls",
            "_model_module_version": "1.5.0",
            "_model_name": "FloatProgressModel",
            "_view_count": null,
            "_view_module": "@jupyter-widgets/controls",
            "_view_module_version": "1.5.0",
            "_view_name": "ProgressView",
            "bar_style": "success",
            "description": "",
            "description_tooltip": null,
            "layout": "IPY_MODEL_608d2114d367489bb623b58976da1e8c",
            "max": 571,
            "min": 0,
            "orientation": "horizontal",
            "style": "IPY_MODEL_9c50d452cb624cffadfb98654858c5b8",
            "value": 571
          }
        },
        "74439e4ba79f47668387efaba79bf45b": {
          "model_module": "@jupyter-widgets/base",
          "model_module_version": "1.2.0",
          "model_name": "LayoutModel",
          "state": {
            "_model_module": "@jupyter-widgets/base",
            "_model_module_version": "1.2.0",
            "_model_name": "LayoutModel",
            "_view_count": null,
            "_view_module": "@jupyter-widgets/base",
            "_view_module_version": "1.2.0",
            "_view_name": "LayoutView",
            "align_content": null,
            "align_items": null,
            "align_self": null,
            "border": null,
            "bottom": null,
            "display": null,
            "flex": null,
            "flex_flow": null,
            "grid_area": null,
            "grid_auto_columns": null,
            "grid_auto_flow": null,
            "grid_auto_rows": null,
            "grid_column": null,
            "grid_gap": null,
            "grid_row": null,
            "grid_template_areas": null,
            "grid_template_columns": null,
            "grid_template_rows": null,
            "height": null,
            "justify_content": null,
            "justify_items": null,
            "left": null,
            "margin": null,
            "max_height": null,
            "max_width": null,
            "min_height": null,
            "min_width": null,
            "object_fit": null,
            "object_position": null,
            "order": null,
            "overflow": null,
            "overflow_x": null,
            "overflow_y": null,
            "padding": null,
            "right": null,
            "top": null,
            "visibility": null,
            "width": null
          }
        },
        "79d664dae3474c3ca6a74df4f2ee824a": {
          "model_module": "@jupyter-widgets/base",
          "model_module_version": "1.2.0",
          "model_name": "LayoutModel",
          "state": {
            "_model_module": "@jupyter-widgets/base",
            "_model_module_version": "1.2.0",
            "_model_name": "LayoutModel",
            "_view_count": null,
            "_view_module": "@jupyter-widgets/base",
            "_view_module_version": "1.2.0",
            "_view_name": "LayoutView",
            "align_content": null,
            "align_items": null,
            "align_self": null,
            "border": null,
            "bottom": null,
            "display": null,
            "flex": null,
            "flex_flow": null,
            "grid_area": null,
            "grid_auto_columns": null,
            "grid_auto_flow": null,
            "grid_auto_rows": null,
            "grid_column": null,
            "grid_gap": null,
            "grid_row": null,
            "grid_template_areas": null,
            "grid_template_columns": null,
            "grid_template_rows": null,
            "height": null,
            "justify_content": null,
            "justify_items": null,
            "left": null,
            "margin": null,
            "max_height": null,
            "max_width": null,
            "min_height": null,
            "min_width": null,
            "object_fit": null,
            "object_position": null,
            "order": null,
            "overflow": null,
            "overflow_x": null,
            "overflow_y": null,
            "padding": null,
            "right": null,
            "top": null,
            "visibility": null,
            "width": null
          }
        },
        "7b2b044facdb434e9c1e8122ccb3454f": {
          "model_module": "@jupyter-widgets/controls",
          "model_module_version": "1.5.0",
          "model_name": "FloatProgressModel",
          "state": {
            "_dom_classes": [],
            "_model_module": "@jupyter-widgets/controls",
            "_model_module_version": "1.5.0",
            "_model_name": "FloatProgressModel",
            "_view_count": null,
            "_view_module": "@jupyter-widgets/controls",
            "_view_module_version": "1.5.0",
            "_view_name": "ProgressView",
            "bar_style": "success",
            "description": "",
            "description_tooltip": null,
            "layout": "IPY_MODEL_02300c118c364b4fadf1150f334b3c7b",
            "max": 2,
            "min": 0,
            "orientation": "horizontal",
            "style": "IPY_MODEL_1eccead01197483d92844945e98ea679",
            "value": 2
          }
        },
        "7ff9e984d3c34cdea2d3b0fc4c4b25c1": {
          "model_module": "@jupyter-widgets/controls",
          "model_module_version": "1.5.0",
          "model_name": "HBoxModel",
          "state": {
            "_dom_classes": [],
            "_model_module": "@jupyter-widgets/controls",
            "_model_module_version": "1.5.0",
            "_model_name": "HBoxModel",
            "_view_count": null,
            "_view_module": "@jupyter-widgets/controls",
            "_view_module_version": "1.5.0",
            "_view_name": "HBoxView",
            "box_style": "",
            "children": [
              "IPY_MODEL_d6bb9228c7a2401daf9b04652961617a",
              "IPY_MODEL_2dac45ebe80e44faa35d7b9ae1fe0557",
              "IPY_MODEL_70c2c19b07e6446d8d65ed65fb6b4d41"
            ],
            "layout": "IPY_MODEL_74439e4ba79f47668387efaba79bf45b"
          }
        },
        "8355d4c1d39243e09d0a16d5120fb6d4": {
          "model_module": "@jupyter-widgets/base",
          "model_module_version": "1.2.0",
          "model_name": "LayoutModel",
          "state": {
            "_model_module": "@jupyter-widgets/base",
            "_model_module_version": "1.2.0",
            "_model_name": "LayoutModel",
            "_view_count": null,
            "_view_module": "@jupyter-widgets/base",
            "_view_module_version": "1.2.0",
            "_view_name": "LayoutView",
            "align_content": null,
            "align_items": null,
            "align_self": null,
            "border": null,
            "bottom": null,
            "display": null,
            "flex": null,
            "flex_flow": null,
            "grid_area": null,
            "grid_auto_columns": null,
            "grid_auto_flow": null,
            "grid_auto_rows": null,
            "grid_column": null,
            "grid_gap": null,
            "grid_row": null,
            "grid_template_areas": null,
            "grid_template_columns": null,
            "grid_template_rows": null,
            "height": null,
            "justify_content": null,
            "justify_items": null,
            "left": null,
            "margin": null,
            "max_height": null,
            "max_width": null,
            "min_height": null,
            "min_width": null,
            "object_fit": null,
            "object_position": null,
            "order": null,
            "overflow": null,
            "overflow_x": null,
            "overflow_y": null,
            "padding": null,
            "right": null,
            "top": null,
            "visibility": null,
            "width": null
          }
        },
        "87be73ea7d8e4cc092c2739af9f00bae": {
          "model_module": "@jupyter-widgets/controls",
          "model_module_version": "1.5.0",
          "model_name": "HBoxModel",
          "state": {
            "_dom_classes": [],
            "_model_module": "@jupyter-widgets/controls",
            "_model_module_version": "1.5.0",
            "_model_name": "HBoxModel",
            "_view_count": null,
            "_view_module": "@jupyter-widgets/controls",
            "_view_module_version": "1.5.0",
            "_view_name": "HBoxView",
            "box_style": "",
            "children": [
              "IPY_MODEL_2d09c3e3a7b14573bcc44983142d0fd7",
              "IPY_MODEL_9b3d82373796470d8a3cc38b09a83ba0",
              "IPY_MODEL_5e833d0ccc0f448592160ec61fc624b0"
            ],
            "layout": "IPY_MODEL_da65ca25ffbd40a6844e35ac6aa6d099"
          }
        },
        "933a01b95dce4679b719106cf34a8098": {
          "model_module": "@jupyter-widgets/controls",
          "model_module_version": "1.5.0",
          "model_name": "ProgressStyleModel",
          "state": {
            "_model_module": "@jupyter-widgets/controls",
            "_model_module_version": "1.5.0",
            "_model_name": "ProgressStyleModel",
            "_view_count": null,
            "_view_module": "@jupyter-widgets/base",
            "_view_module_version": "1.2.0",
            "_view_name": "StyleView",
            "bar_color": null,
            "description_width": ""
          }
        },
        "982b6d98af454be3a5f69b535fd4b7b3": {
          "model_module": "@jupyter-widgets/controls",
          "model_module_version": "1.5.0",
          "model_name": "DescriptionStyleModel",
          "state": {
            "_model_module": "@jupyter-widgets/controls",
            "_model_module_version": "1.5.0",
            "_model_name": "DescriptionStyleModel",
            "_view_count": null,
            "_view_module": "@jupyter-widgets/base",
            "_view_module_version": "1.2.0",
            "_view_name": "StyleView",
            "description_width": ""
          }
        },
        "9b3d82373796470d8a3cc38b09a83ba0": {
          "model_module": "@jupyter-widgets/controls",
          "model_module_version": "1.5.0",
          "model_name": "FloatProgressModel",
          "state": {
            "_dom_classes": [],
            "_model_module": "@jupyter-widgets/controls",
            "_model_module_version": "1.5.0",
            "_model_name": "FloatProgressModel",
            "_view_count": null,
            "_view_module": "@jupyter-widgets/controls",
            "_view_module_version": "1.5.0",
            "_view_name": "ProgressView",
            "bar_style": "success",
            "description": "",
            "description_tooltip": null,
            "layout": "IPY_MODEL_a89aca39c25e494882e484f1689cdabd",
            "max": 9942981696,
            "min": 0,
            "orientation": "horizontal",
            "style": "IPY_MODEL_3505afd12cd7474fa32d22687d43cd7f",
            "value": 9942981696
          }
        },
        "9c50d452cb624cffadfb98654858c5b8": {
          "model_module": "@jupyter-widgets/controls",
          "model_module_version": "1.5.0",
          "model_name": "ProgressStyleModel",
          "state": {
            "_model_module": "@jupyter-widgets/controls",
            "_model_module_version": "1.5.0",
            "_model_name": "ProgressStyleModel",
            "_view_count": null,
            "_view_module": "@jupyter-widgets/base",
            "_view_module_version": "1.2.0",
            "_view_name": "StyleView",
            "bar_color": null,
            "description_width": ""
          }
        },
        "9d01e23ded3840e8a12b2585cafa3c0f": {
          "model_module": "@jupyter-widgets/controls",
          "model_module_version": "1.5.0",
          "model_name": "HTMLModel",
          "state": {
            "_dom_classes": [],
            "_model_module": "@jupyter-widgets/controls",
            "_model_module_version": "1.5.0",
            "_model_name": "HTMLModel",
            "_view_count": null,
            "_view_module": "@jupyter-widgets/controls",
            "_view_module_version": "1.5.0",
            "_view_name": "HTMLView",
            "description": "",
            "description_tooltip": null,
            "layout": "IPY_MODEL_a02a4caa5a7a46b592bcef34ee614220",
            "placeholder": "​",
            "style": "IPY_MODEL_067561d092054b4aa8a91a4a449a5e17",
            "value": "Downloading shards: 100%"
          }
        },
        "9fc6f31367e14988836a234f9ccc1299": {
          "model_module": "@jupyter-widgets/controls",
          "model_module_version": "1.5.0",
          "model_name": "DescriptionStyleModel",
          "state": {
            "_model_module": "@jupyter-widgets/controls",
            "_model_module_version": "1.5.0",
            "_model_name": "DescriptionStyleModel",
            "_view_count": null,
            "_view_module": "@jupyter-widgets/base",
            "_view_module_version": "1.2.0",
            "_view_name": "StyleView",
            "description_width": ""
          }
        },
        "a02a4caa5a7a46b592bcef34ee614220": {
          "model_module": "@jupyter-widgets/base",
          "model_module_version": "1.2.0",
          "model_name": "LayoutModel",
          "state": {
            "_model_module": "@jupyter-widgets/base",
            "_model_module_version": "1.2.0",
            "_model_name": "LayoutModel",
            "_view_count": null,
            "_view_module": "@jupyter-widgets/base",
            "_view_module_version": "1.2.0",
            "_view_name": "LayoutView",
            "align_content": null,
            "align_items": null,
            "align_self": null,
            "border": null,
            "bottom": null,
            "display": null,
            "flex": null,
            "flex_flow": null,
            "grid_area": null,
            "grid_auto_columns": null,
            "grid_auto_flow": null,
            "grid_auto_rows": null,
            "grid_column": null,
            "grid_gap": null,
            "grid_row": null,
            "grid_template_areas": null,
            "grid_template_columns": null,
            "grid_template_rows": null,
            "height": null,
            "justify_content": null,
            "justify_items": null,
            "left": null,
            "margin": null,
            "max_height": null,
            "max_width": null,
            "min_height": null,
            "min_width": null,
            "object_fit": null,
            "object_position": null,
            "order": null,
            "overflow": null,
            "overflow_x": null,
            "overflow_y": null,
            "padding": null,
            "right": null,
            "top": null,
            "visibility": null,
            "width": null
          }
        },
        "a89aca39c25e494882e484f1689cdabd": {
          "model_module": "@jupyter-widgets/base",
          "model_module_version": "1.2.0",
          "model_name": "LayoutModel",
          "state": {
            "_model_module": "@jupyter-widgets/base",
            "_model_module_version": "1.2.0",
            "_model_name": "LayoutModel",
            "_view_count": null,
            "_view_module": "@jupyter-widgets/base",
            "_view_module_version": "1.2.0",
            "_view_name": "LayoutView",
            "align_content": null,
            "align_items": null,
            "align_self": null,
            "border": null,
            "bottom": null,
            "display": null,
            "flex": null,
            "flex_flow": null,
            "grid_area": null,
            "grid_auto_columns": null,
            "grid_auto_flow": null,
            "grid_auto_rows": null,
            "grid_column": null,
            "grid_gap": null,
            "grid_row": null,
            "grid_template_areas": null,
            "grid_template_columns": null,
            "grid_template_rows": null,
            "height": null,
            "justify_content": null,
            "justify_items": null,
            "left": null,
            "margin": null,
            "max_height": null,
            "max_width": null,
            "min_height": null,
            "min_width": null,
            "object_fit": null,
            "object_position": null,
            "order": null,
            "overflow": null,
            "overflow_x": null,
            "overflow_y": null,
            "padding": null,
            "right": null,
            "top": null,
            "visibility": null,
            "width": null
          }
        },
        "ad6a5bd46fa54a0a9f8a64e7eb0b57e6": {
          "model_module": "@jupyter-widgets/base",
          "model_module_version": "1.2.0",
          "model_name": "LayoutModel",
          "state": {
            "_model_module": "@jupyter-widgets/base",
            "_model_module_version": "1.2.0",
            "_model_name": "LayoutModel",
            "_view_count": null,
            "_view_module": "@jupyter-widgets/base",
            "_view_module_version": "1.2.0",
            "_view_name": "LayoutView",
            "align_content": null,
            "align_items": null,
            "align_self": null,
            "border": null,
            "bottom": null,
            "display": null,
            "flex": null,
            "flex_flow": null,
            "grid_area": null,
            "grid_auto_columns": null,
            "grid_auto_flow": null,
            "grid_auto_rows": null,
            "grid_column": null,
            "grid_gap": null,
            "grid_row": null,
            "grid_template_areas": null,
            "grid_template_columns": null,
            "grid_template_rows": null,
            "height": null,
            "justify_content": null,
            "justify_items": null,
            "left": null,
            "margin": null,
            "max_height": null,
            "max_width": null,
            "min_height": null,
            "min_width": null,
            "object_fit": null,
            "object_position": null,
            "order": null,
            "overflow": null,
            "overflow_x": null,
            "overflow_y": null,
            "padding": null,
            "right": null,
            "top": null,
            "visibility": null,
            "width": null
          }
        },
        "afa18ec4e1df41788f817a9204e806bc": {
          "model_module": "@jupyter-widgets/controls",
          "model_module_version": "1.5.0",
          "model_name": "FloatProgressModel",
          "state": {
            "_dom_classes": [],
            "_model_module": "@jupyter-widgets/controls",
            "_model_module_version": "1.5.0",
            "_model_name": "FloatProgressModel",
            "_view_count": null,
            "_view_module": "@jupyter-widgets/controls",
            "_view_module_version": "1.5.0",
            "_view_name": "ProgressView",
            "bar_style": "success",
            "description": "",
            "description_tooltip": null,
            "layout": "IPY_MODEL_ad6a5bd46fa54a0a9f8a64e7eb0b57e6",
            "max": 4540516344,
            "min": 0,
            "orientation": "horizontal",
            "style": "IPY_MODEL_2a1253965ac64eb6b594f03a372de2ea",
            "value": 4540516344
          }
        },
        "b02f350f6e544b30aa8befb4e15fca63": {
          "model_module": "@jupyter-widgets/controls",
          "model_module_version": "1.5.0",
          "model_name": "DescriptionStyleModel",
          "state": {
            "_model_module": "@jupyter-widgets/controls",
            "_model_module_version": "1.5.0",
            "_model_name": "DescriptionStyleModel",
            "_view_count": null,
            "_view_module": "@jupyter-widgets/base",
            "_view_module_version": "1.2.0",
            "_view_name": "StyleView",
            "description_width": ""
          }
        },
        "b062701c0ba649e486ee9b8a326eff58": {
          "model_module": "@jupyter-widgets/base",
          "model_module_version": "1.2.0",
          "model_name": "LayoutModel",
          "state": {
            "_model_module": "@jupyter-widgets/base",
            "_model_module_version": "1.2.0",
            "_model_name": "LayoutModel",
            "_view_count": null,
            "_view_module": "@jupyter-widgets/base",
            "_view_module_version": "1.2.0",
            "_view_name": "LayoutView",
            "align_content": null,
            "align_items": null,
            "align_self": null,
            "border": null,
            "bottom": null,
            "display": null,
            "flex": null,
            "flex_flow": null,
            "grid_area": null,
            "grid_auto_columns": null,
            "grid_auto_flow": null,
            "grid_auto_rows": null,
            "grid_column": null,
            "grid_gap": null,
            "grid_row": null,
            "grid_template_areas": null,
            "grid_template_columns": null,
            "grid_template_rows": null,
            "height": null,
            "justify_content": null,
            "justify_items": null,
            "left": null,
            "margin": null,
            "max_height": null,
            "max_width": null,
            "min_height": null,
            "min_width": null,
            "object_fit": null,
            "object_position": null,
            "order": null,
            "overflow": null,
            "overflow_x": null,
            "overflow_y": null,
            "padding": null,
            "right": null,
            "top": null,
            "visibility": null,
            "width": null
          }
        },
        "bfc02f7429b24549ad15f7114b952c6a": {
          "model_module": "@jupyter-widgets/base",
          "model_module_version": "1.2.0",
          "model_name": "LayoutModel",
          "state": {
            "_model_module": "@jupyter-widgets/base",
            "_model_module_version": "1.2.0",
            "_model_name": "LayoutModel",
            "_view_count": null,
            "_view_module": "@jupyter-widgets/base",
            "_view_module_version": "1.2.0",
            "_view_name": "LayoutView",
            "align_content": null,
            "align_items": null,
            "align_self": null,
            "border": null,
            "bottom": null,
            "display": null,
            "flex": null,
            "flex_flow": null,
            "grid_area": null,
            "grid_auto_columns": null,
            "grid_auto_flow": null,
            "grid_auto_rows": null,
            "grid_column": null,
            "grid_gap": null,
            "grid_row": null,
            "grid_template_areas": null,
            "grid_template_columns": null,
            "grid_template_rows": null,
            "height": null,
            "justify_content": null,
            "justify_items": null,
            "left": null,
            "margin": null,
            "max_height": null,
            "max_width": null,
            "min_height": null,
            "min_width": null,
            "object_fit": null,
            "object_position": null,
            "order": null,
            "overflow": null,
            "overflow_x": null,
            "overflow_y": null,
            "padding": null,
            "right": null,
            "top": null,
            "visibility": null,
            "width": null
          }
        },
        "cb943077becd4d07a4635d85304a6a46": {
          "model_module": "@jupyter-widgets/controls",
          "model_module_version": "1.5.0",
          "model_name": "HBoxModel",
          "state": {
            "_dom_classes": [],
            "_model_module": "@jupyter-widgets/controls",
            "_model_module_version": "1.5.0",
            "_model_name": "HBoxModel",
            "_view_count": null,
            "_view_module": "@jupyter-widgets/controls",
            "_view_module_version": "1.5.0",
            "_view_name": "HBoxView",
            "box_style": "",
            "children": [
              "IPY_MODEL_d1f160509cfc43c7b149f785e450951d",
              "IPY_MODEL_ffa0bae1dc904bca97acbe5133db50a1",
              "IPY_MODEL_ee49eaeef7da4fb4b0a604587c25892c"
            ],
            "layout": "IPY_MODEL_2c205fa481f34674806593cef581d6c6"
          }
        },
        "d1f160509cfc43c7b149f785e450951d": {
          "model_module": "@jupyter-widgets/controls",
          "model_module_version": "1.5.0",
          "model_name": "HTMLModel",
          "state": {
            "_dom_classes": [],
            "_model_module": "@jupyter-widgets/controls",
            "_model_module_version": "1.5.0",
            "_model_name": "HTMLModel",
            "_view_count": null,
            "_view_module": "@jupyter-widgets/controls",
            "_view_module_version": "1.5.0",
            "_view_name": "HTMLView",
            "description": "",
            "description_tooltip": null,
            "layout": "IPY_MODEL_f33956edabd44485acd2096c68955075",
            "placeholder": "​",
            "style": "IPY_MODEL_b02f350f6e544b30aa8befb4e15fca63",
            "value": "Loading checkpoint shards:   0%"
          }
        },
        "d6bb9228c7a2401daf9b04652961617a": {
          "model_module": "@jupyter-widgets/controls",
          "model_module_version": "1.5.0",
          "model_name": "HTMLModel",
          "state": {
            "_dom_classes": [],
            "_model_module": "@jupyter-widgets/controls",
            "_model_module_version": "1.5.0",
            "_model_name": "HTMLModel",
            "_view_count": null,
            "_view_module": "@jupyter-widgets/controls",
            "_view_module_version": "1.5.0",
            "_view_name": "HTMLView",
            "description": "",
            "description_tooltip": null,
            "layout": "IPY_MODEL_b062701c0ba649e486ee9b8a326eff58",
            "placeholder": "​",
            "style": "IPY_MODEL_424b81b49cce4fd6b418e91e192fa732",
            "value": "model.safetensors.index.json: 100%"
          }
        },
        "da65ca25ffbd40a6844e35ac6aa6d099": {
          "model_module": "@jupyter-widgets/base",
          "model_module_version": "1.2.0",
          "model_name": "LayoutModel",
          "state": {
            "_model_module": "@jupyter-widgets/base",
            "_model_module_version": "1.2.0",
            "_model_name": "LayoutModel",
            "_view_count": null,
            "_view_module": "@jupyter-widgets/base",
            "_view_module_version": "1.2.0",
            "_view_name": "LayoutView",
            "align_content": null,
            "align_items": null,
            "align_self": null,
            "border": null,
            "bottom": null,
            "display": null,
            "flex": null,
            "flex_flow": null,
            "grid_area": null,
            "grid_auto_columns": null,
            "grid_auto_flow": null,
            "grid_auto_rows": null,
            "grid_column": null,
            "grid_gap": null,
            "grid_row": null,
            "grid_template_areas": null,
            "grid_template_columns": null,
            "grid_template_rows": null,
            "height": null,
            "justify_content": null,
            "justify_items": null,
            "left": null,
            "margin": null,
            "max_height": null,
            "max_width": null,
            "min_height": null,
            "min_width": null,
            "object_fit": null,
            "object_position": null,
            "order": null,
            "overflow": null,
            "overflow_x": null,
            "overflow_y": null,
            "padding": null,
            "right": null,
            "top": null,
            "visibility": null,
            "width": null
          }
        },
        "e26d17b76c6c4ce1856391fc8d482446": {
          "model_module": "@jupyter-widgets/base",
          "model_module_version": "1.2.0",
          "model_name": "LayoutModel",
          "state": {
            "_model_module": "@jupyter-widgets/base",
            "_model_module_version": "1.2.0",
            "_model_name": "LayoutModel",
            "_view_count": null,
            "_view_module": "@jupyter-widgets/base",
            "_view_module_version": "1.2.0",
            "_view_name": "LayoutView",
            "align_content": null,
            "align_items": null,
            "align_self": null,
            "border": null,
            "bottom": null,
            "display": null,
            "flex": null,
            "flex_flow": null,
            "grid_area": null,
            "grid_auto_columns": null,
            "grid_auto_flow": null,
            "grid_auto_rows": null,
            "grid_column": null,
            "grid_gap": null,
            "grid_row": null,
            "grid_template_areas": null,
            "grid_template_columns": null,
            "grid_template_rows": null,
            "height": null,
            "justify_content": null,
            "justify_items": null,
            "left": null,
            "margin": null,
            "max_height": null,
            "max_width": null,
            "min_height": null,
            "min_width": null,
            "object_fit": null,
            "object_position": null,
            "order": null,
            "overflow": null,
            "overflow_x": null,
            "overflow_y": null,
            "padding": null,
            "right": null,
            "top": null,
            "visibility": null,
            "width": null
          }
        },
        "e3b480195e0b4dfab78dd9d498a08490": {
          "model_module": "@jupyter-widgets/controls",
          "model_module_version": "1.5.0",
          "model_name": "HTMLModel",
          "state": {
            "_dom_classes": [],
            "_model_module": "@jupyter-widgets/controls",
            "_model_module_version": "1.5.0",
            "_model_name": "HTMLModel",
            "_view_count": null,
            "_view_module": "@jupyter-widgets/controls",
            "_view_module_version": "1.5.0",
            "_view_name": "HTMLView",
            "description": "",
            "description_tooltip": null,
            "layout": "IPY_MODEL_7174a7a377eb4d008a9d5e40daee71eb",
            "placeholder": "​",
            "style": "IPY_MODEL_38fcbebdc6814e229b3d85e38b8c2a6d",
            "value": "model-00002-of-00002.safetensors: 100%"
          }
        },
        "e492d35fee804d50810135fa563d9595": {
          "model_module": "@jupyter-widgets/controls",
          "model_module_version": "1.5.0",
          "model_name": "DescriptionStyleModel",
          "state": {
            "_model_module": "@jupyter-widgets/controls",
            "_model_module_version": "1.5.0",
            "_model_name": "DescriptionStyleModel",
            "_view_count": null,
            "_view_module": "@jupyter-widgets/base",
            "_view_module_version": "1.2.0",
            "_view_name": "StyleView",
            "description_width": ""
          }
        },
        "ec10e56aef4546e582cbaeb5f1ebcea0": {
          "model_module": "@jupyter-widgets/base",
          "model_module_version": "1.2.0",
          "model_name": "LayoutModel",
          "state": {
            "_model_module": "@jupyter-widgets/base",
            "_model_module_version": "1.2.0",
            "_model_name": "LayoutModel",
            "_view_count": null,
            "_view_module": "@jupyter-widgets/base",
            "_view_module_version": "1.2.0",
            "_view_name": "LayoutView",
            "align_content": null,
            "align_items": null,
            "align_self": null,
            "border": null,
            "bottom": null,
            "display": null,
            "flex": null,
            "flex_flow": null,
            "grid_area": null,
            "grid_auto_columns": null,
            "grid_auto_flow": null,
            "grid_auto_rows": null,
            "grid_column": null,
            "grid_gap": null,
            "grid_row": null,
            "grid_template_areas": null,
            "grid_template_columns": null,
            "grid_template_rows": null,
            "height": null,
            "justify_content": null,
            "justify_items": null,
            "left": null,
            "margin": null,
            "max_height": null,
            "max_width": null,
            "min_height": null,
            "min_width": null,
            "object_fit": null,
            "object_position": null,
            "order": null,
            "overflow": null,
            "overflow_x": null,
            "overflow_y": null,
            "padding": null,
            "right": null,
            "top": null,
            "visibility": null,
            "width": null
          }
        },
        "ed94aaea7c19417aa7ba3c16c1c34bfc": {
          "model_module": "@jupyter-widgets/base",
          "model_module_version": "1.2.0",
          "model_name": "LayoutModel",
          "state": {
            "_model_module": "@jupyter-widgets/base",
            "_model_module_version": "1.2.0",
            "_model_name": "LayoutModel",
            "_view_count": null,
            "_view_module": "@jupyter-widgets/base",
            "_view_module_version": "1.2.0",
            "_view_name": "LayoutView",
            "align_content": null,
            "align_items": null,
            "align_self": null,
            "border": null,
            "bottom": null,
            "display": null,
            "flex": null,
            "flex_flow": null,
            "grid_area": null,
            "grid_auto_columns": null,
            "grid_auto_flow": null,
            "grid_auto_rows": null,
            "grid_column": null,
            "grid_gap": null,
            "grid_row": null,
            "grid_template_areas": null,
            "grid_template_columns": null,
            "grid_template_rows": null,
            "height": null,
            "justify_content": null,
            "justify_items": null,
            "left": null,
            "margin": null,
            "max_height": null,
            "max_width": null,
            "min_height": null,
            "min_width": null,
            "object_fit": null,
            "object_position": null,
            "order": null,
            "overflow": null,
            "overflow_x": null,
            "overflow_y": null,
            "padding": null,
            "right": null,
            "top": null,
            "visibility": null,
            "width": null
          }
        },
        "ee49eaeef7da4fb4b0a604587c25892c": {
          "model_module": "@jupyter-widgets/controls",
          "model_module_version": "1.5.0",
          "model_name": "HTMLModel",
          "state": {
            "_dom_classes": [],
            "_model_module": "@jupyter-widgets/controls",
            "_model_module_version": "1.5.0",
            "_model_name": "HTMLModel",
            "_view_count": null,
            "_view_module": "@jupyter-widgets/controls",
            "_view_module_version": "1.5.0",
            "_view_name": "HTMLView",
            "description": "",
            "description_tooltip": null,
            "layout": "IPY_MODEL_4d1ead4f26624efd888115481060dd46",
            "placeholder": "​",
            "style": "IPY_MODEL_982b6d98af454be3a5f69b535fd4b7b3",
            "value": " 0/2 [00:00&lt;?, ?it/s]"
          }
        },
        "f33956edabd44485acd2096c68955075": {
          "model_module": "@jupyter-widgets/base",
          "model_module_version": "1.2.0",
          "model_name": "LayoutModel",
          "state": {
            "_model_module": "@jupyter-widgets/base",
            "_model_module_version": "1.2.0",
            "_model_name": "LayoutModel",
            "_view_count": null,
            "_view_module": "@jupyter-widgets/base",
            "_view_module_version": "1.2.0",
            "_view_name": "LayoutView",
            "align_content": null,
            "align_items": null,
            "align_self": null,
            "border": null,
            "bottom": null,
            "display": null,
            "flex": null,
            "flex_flow": null,
            "grid_area": null,
            "grid_auto_columns": null,
            "grid_auto_flow": null,
            "grid_auto_rows": null,
            "grid_column": null,
            "grid_gap": null,
            "grid_row": null,
            "grid_template_areas": null,
            "grid_template_columns": null,
            "grid_template_rows": null,
            "height": null,
            "justify_content": null,
            "justify_items": null,
            "left": null,
            "margin": null,
            "max_height": null,
            "max_width": null,
            "min_height": null,
            "min_width": null,
            "object_fit": null,
            "object_position": null,
            "order": null,
            "overflow": null,
            "overflow_x": null,
            "overflow_y": null,
            "padding": null,
            "right": null,
            "top": null,
            "visibility": null,
            "width": null
          }
        },
        "fa909634a20a4ec4991461e186a88738": {
          "model_module": "@jupyter-widgets/base",
          "model_module_version": "1.2.0",
          "model_name": "LayoutModel",
          "state": {
            "_model_module": "@jupyter-widgets/base",
            "_model_module_version": "1.2.0",
            "_model_name": "LayoutModel",
            "_view_count": null,
            "_view_module": "@jupyter-widgets/base",
            "_view_module_version": "1.2.0",
            "_view_name": "LayoutView",
            "align_content": null,
            "align_items": null,
            "align_self": null,
            "border": null,
            "bottom": null,
            "display": null,
            "flex": null,
            "flex_flow": null,
            "grid_area": null,
            "grid_auto_columns": null,
            "grid_auto_flow": null,
            "grid_auto_rows": null,
            "grid_column": null,
            "grid_gap": null,
            "grid_row": null,
            "grid_template_areas": null,
            "grid_template_columns": null,
            "grid_template_rows": null,
            "height": null,
            "justify_content": null,
            "justify_items": null,
            "left": null,
            "margin": null,
            "max_height": null,
            "max_width": null,
            "min_height": null,
            "min_width": null,
            "object_fit": null,
            "object_position": null,
            "order": null,
            "overflow": null,
            "overflow_x": null,
            "overflow_y": null,
            "padding": null,
            "right": null,
            "top": null,
            "visibility": null,
            "width": null
          }
        },
        "fd83f07559074927ac3636f5e2641bf5": {
          "model_module": "@jupyter-widgets/controls",
          "model_module_version": "1.5.0",
          "model_name": "HTMLModel",
          "state": {
            "_dom_classes": [],
            "_model_module": "@jupyter-widgets/controls",
            "_model_module_version": "1.5.0",
            "_model_name": "HTMLModel",
            "_view_count": null,
            "_view_module": "@jupyter-widgets/controls",
            "_view_module_version": "1.5.0",
            "_view_name": "HTMLView",
            "description": "",
            "description_tooltip": null,
            "layout": "IPY_MODEL_566051f0da794567ab57481de70afb13",
            "placeholder": "​",
            "style": "IPY_MODEL_9fc6f31367e14988836a234f9ccc1299",
            "value": " 4.54G/4.54G [00:36&lt;00:00, 156MB/s]"
          }
        },
        "ffa0bae1dc904bca97acbe5133db50a1": {
          "model_module": "@jupyter-widgets/controls",
          "model_module_version": "1.5.0",
          "model_name": "FloatProgressModel",
          "state": {
            "_dom_classes": [],
            "_model_module": "@jupyter-widgets/controls",
            "_model_module_version": "1.5.0",
            "_model_name": "FloatProgressModel",
            "_view_count": null,
            "_view_module": "@jupyter-widgets/controls",
            "_view_module_version": "1.5.0",
            "_view_name": "ProgressView",
            "bar_style": "",
            "description": "",
            "description_tooltip": null,
            "layout": "IPY_MODEL_79d664dae3474c3ca6a74df4f2ee824a",
            "max": 2,
            "min": 0,
            "orientation": "horizontal",
            "style": "IPY_MODEL_933a01b95dce4679b719106cf34a8098",
            "value": 0
          }
        },
        "ffc8f8e7bb5f4196a32d8999a8afc742": {
          "model_module": "@jupyter-widgets/base",
          "model_module_version": "1.2.0",
          "model_name": "LayoutModel",
          "state": {
            "_model_module": "@jupyter-widgets/base",
            "_model_module_version": "1.2.0",
            "_model_name": "LayoutModel",
            "_view_count": null,
            "_view_module": "@jupyter-widgets/base",
            "_view_module_version": "1.2.0",
            "_view_name": "LayoutView",
            "align_content": null,
            "align_items": null,
            "align_self": null,
            "border": null,
            "bottom": null,
            "display": null,
            "flex": null,
            "flex_flow": null,
            "grid_area": null,
            "grid_auto_columns": null,
            "grid_auto_flow": null,
            "grid_auto_rows": null,
            "grid_column": null,
            "grid_gap": null,
            "grid_row": null,
            "grid_template_areas": null,
            "grid_template_columns": null,
            "grid_template_rows": null,
            "height": null,
            "justify_content": null,
            "justify_items": null,
            "left": null,
            "margin": null,
            "max_height": null,
            "max_width": null,
            "min_height": null,
            "min_width": null,
            "object_fit": null,
            "object_position": null,
            "order": null,
            "overflow": null,
            "overflow_x": null,
            "overflow_y": null,
            "padding": null,
            "right": null,
            "top": null,
            "visibility": null,
            "width": null
          }
        },
        "ffdf862612f646b5b3e4d42d4b58aadf": {
          "model_module": "@jupyter-widgets/controls",
          "model_module_version": "1.5.0",
          "model_name": "HTMLModel",
          "state": {
            "_dom_classes": [],
            "_model_module": "@jupyter-widgets/controls",
            "_model_module_version": "1.5.0",
            "_model_name": "HTMLModel",
            "_view_count": null,
            "_view_module": "@jupyter-widgets/controls",
            "_view_module_version": "1.5.0",
            "_view_name": "HTMLView",
            "description": "",
            "description_tooltip": null,
            "layout": "IPY_MODEL_18c7e3c3480d4aa09042fcd7e31ddce8",
            "placeholder": "​",
            "style": "IPY_MODEL_2631591e009247ca9b494375cf58aa8d",
            "value": " 571/571 [00:00&lt;00:00, 36.5kB/s]"
          }
        }
      }
    }
  },
  "nbformat": 4,
  "nbformat_minor": 0
}
